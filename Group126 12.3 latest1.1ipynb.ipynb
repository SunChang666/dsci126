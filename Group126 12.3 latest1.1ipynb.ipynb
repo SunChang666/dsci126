{
 "cells": [
  {
   "cell_type": "markdown",
   "id": "15a5e541-82aa-4cc6-a298-cd8f0780b8c9",
   "metadata": {
    "tags": []
   },
   "source": [
    "# Iris Species Classification \n",
    "\n",
    "### Group 126: Manya Jain, Zhuohang Lyu, Chang Sun"
   ]
  },
  {
   "cell_type": "markdown",
   "id": "2a811e4a-b30e-498f-b3ed-eb5f21aff3f6",
   "metadata": {},
   "source": [
    "# Introduction"
   ]
  },
  {
   "cell_type": "markdown",
   "id": "b57d71bc-e62a-49fd-aa8d-c9da8b75a296",
   "metadata": {},
   "source": [
    "Iris is a genus of flowering plants with 310 recognised species with vivid flowers. Iris is both the common name and the scientific name for all species of Iris, as well as some species from other closely related genera."
   ]
  },
  {
   "cell_type": "markdown",
   "id": "a7f89735-c303-4a4f-b3d0-3071e56ec42a",
   "metadata": {},
   "source": [
    "### Question:\n",
    "We shall answer the following question: Can we distinguish among the species of the iris plant?"
   ]
  },
  {
   "cell_type": "markdown",
   "id": "a7d9fff5-cc40-4392-a3f8-d60aeb17db95",
   "metadata": {},
   "source": [
    "### Dataset Used:\n",
    "The dataset that we will be using for the analysis is a multivariable dataset, “Iris flower dataset”, also known as “Fisher’s Iris data set”. The Iris dataset, which is also available on the UCI Machine Learning Repository, was utilised in R.A. Fisher's 1936 landmark paper ‘The Use of Multiple Measurements in Taxonomic Problems’.\n",
    "\n",
    "These are the columns in this dataset: \n",
    " - Id = Number of observation.\n",
    " - SepalLengthCm = Length of sepal of iris species in centimeters.\n",
    " - SepalWidthCm = Weidth of sepal of iris species in centimeters.\n",
    " - PetalLengthCm = Length of petal of iris species in centimeters.\n",
    " - PetalWidthCm = Width of petal of iris species in centimeters.\n",
    " - Species = Name of the species (Iris setosa, Iris virginica or Iris versicolor)the observation belongs to. \n",
    " \n",
    "We intend to perform classification by stratifying the dataset by species.\n",
    "\n",
    "The predictors we will be using are: SepalLengthCm, SepalWidthCm, PetalLengthCm and PetalWidthCm. \n",
    "\n",
    "We will visualize using scatter plot: In order to investigate the relationship between individual predictors based on iris species, scatterplot may be a better choice because the scatterplot is a type of data display that demonstrates the connection between two numerical variables.\n",
    "\n"
   ]
  },
  {
   "cell_type": "markdown",
   "id": "a73d97c3-a748-4911-8f44-2dd2d9f9c76a",
   "metadata": {
    "tags": []
   },
   "source": [
    "# Methods And Results:"
   ]
  },
  {
   "cell_type": "markdown",
   "id": "33129a15-f81c-41bf-87a1-3065f2d76185",
   "metadata": {},
   "source": [
    "### Loading The Packages\n",
    "Firstly, we will load the required packages in R to gain access to useful functions for performing the data analysis."
   ]
  },
  {
   "cell_type": "code",
   "execution_count": 1,
   "id": "cc8b8d48-d03f-4dff-9549-96dfb2ad5cbd",
   "metadata": {},
   "outputs": [
    {
     "name": "stderr",
     "output_type": "stream",
     "text": [
      "── \u001b[1mAttaching packages\u001b[22m ─────────────────────────────────────── tidyverse 1.3.1 ──\n",
      "\n",
      "\u001b[32m✔\u001b[39m \u001b[34mggplot2\u001b[39m 3.3.6     \u001b[32m✔\u001b[39m \u001b[34mpurrr  \u001b[39m 0.3.4\n",
      "\u001b[32m✔\u001b[39m \u001b[34mtibble \u001b[39m 3.1.7     \u001b[32m✔\u001b[39m \u001b[34mdplyr  \u001b[39m 1.0.9\n",
      "\u001b[32m✔\u001b[39m \u001b[34mtidyr  \u001b[39m 1.2.0     \u001b[32m✔\u001b[39m \u001b[34mstringr\u001b[39m 1.4.0\n",
      "\u001b[32m✔\u001b[39m \u001b[34mreadr  \u001b[39m 2.1.2     \u001b[32m✔\u001b[39m \u001b[34mforcats\u001b[39m 0.5.1\n",
      "\n",
      "── \u001b[1mConflicts\u001b[22m ────────────────────────────────────────── tidyverse_conflicts() ──\n",
      "\u001b[31m✖\u001b[39m \u001b[34mdplyr\u001b[39m::\u001b[32mfilter()\u001b[39m masks \u001b[34mstats\u001b[39m::filter()\n",
      "\u001b[31m✖\u001b[39m \u001b[34mdplyr\u001b[39m::\u001b[32mlag()\u001b[39m    masks \u001b[34mstats\u001b[39m::lag()\n",
      "\n",
      "── \u001b[1mAttaching packages\u001b[22m ────────────────────────────────────── tidymodels 1.0.0 ──\n",
      "\n",
      "\u001b[32m✔\u001b[39m \u001b[34mbroom       \u001b[39m 1.0.0     \u001b[32m✔\u001b[39m \u001b[34mrsample     \u001b[39m 1.0.0\n",
      "\u001b[32m✔\u001b[39m \u001b[34mdials       \u001b[39m 1.0.0     \u001b[32m✔\u001b[39m \u001b[34mtune        \u001b[39m 1.0.0\n",
      "\u001b[32m✔\u001b[39m \u001b[34minfer       \u001b[39m 1.0.2     \u001b[32m✔\u001b[39m \u001b[34mworkflows   \u001b[39m 1.0.0\n",
      "\u001b[32m✔\u001b[39m \u001b[34mmodeldata   \u001b[39m 1.0.0     \u001b[32m✔\u001b[39m \u001b[34mworkflowsets\u001b[39m 1.0.0\n",
      "\u001b[32m✔\u001b[39m \u001b[34mparsnip     \u001b[39m 1.0.0     \u001b[32m✔\u001b[39m \u001b[34myardstick   \u001b[39m 1.0.0\n",
      "\u001b[32m✔\u001b[39m \u001b[34mrecipes     \u001b[39m 1.0.1     \n",
      "\n",
      "── \u001b[1mConflicts\u001b[22m ───────────────────────────────────────── tidymodels_conflicts() ──\n",
      "\u001b[31m✖\u001b[39m \u001b[34mscales\u001b[39m::\u001b[32mdiscard()\u001b[39m masks \u001b[34mpurrr\u001b[39m::discard()\n",
      "\u001b[31m✖\u001b[39m \u001b[34mdplyr\u001b[39m::\u001b[32mfilter()\u001b[39m   masks \u001b[34mstats\u001b[39m::filter()\n",
      "\u001b[31m✖\u001b[39m \u001b[34mrecipes\u001b[39m::\u001b[32mfixed()\u001b[39m  masks \u001b[34mstringr\u001b[39m::fixed()\n",
      "\u001b[31m✖\u001b[39m \u001b[34mdplyr\u001b[39m::\u001b[32mlag()\u001b[39m      masks \u001b[34mstats\u001b[39m::lag()\n",
      "\u001b[31m✖\u001b[39m \u001b[34myardstick\u001b[39m::\u001b[32mspec()\u001b[39m masks \u001b[34mreadr\u001b[39m::spec()\n",
      "\u001b[31m✖\u001b[39m \u001b[34mrecipes\u001b[39m::\u001b[32mstep()\u001b[39m   masks \u001b[34mstats\u001b[39m::step()\n",
      "\u001b[34m•\u001b[39m Use \u001b[32mtidymodels_prefer()\u001b[39m to resolve common conflicts.\n",
      "\n"
     ]
    }
   ],
   "source": [
    "library(readxl)\n",
    "library(tidyverse)\n",
    "library(repr)\n",
    "library(tidymodels)"
   ]
  },
  {
   "cell_type": "markdown",
   "id": "99329627-40f9-4b4c-be6d-bea8f0a2ed80",
   "metadata": {},
   "source": [
    "### Reading The Dataset"
   ]
  },
  {
   "cell_type": "markdown",
   "id": "c7244708-e04b-496e-8f5b-374373b6fb0f",
   "metadata": {},
   "source": [
    "Then, we load the dataset from the link \"https://raw.githubusercontent.com/SunChang666/dsci126/main/Iris.csv\" in GITHUB by using the read_delim function."
   ]
  },
  {
   "cell_type": "markdown",
   "id": "f7f3c26d-2af1-4d6c-91c2-0439c083cf88",
   "metadata": {},
   "source": [
    "To get this into R using the read_delim function, we specify the first argument as the path to the file, and then provide values to the delim argument (here a comma which we represent by \",\") and the col_names argument. read_csv, read_tsv and read_delim have a col_names argument and the default is TRUE.\n",
    "\n",
    "We will name our dataset iris. "
   ]
  },
  {
   "cell_type": "code",
   "execution_count": 2,
   "id": "461f2bf7-4e49-48ae-a771-fe736fe4ece2",
   "metadata": {},
   "outputs": [
    {
     "name": "stderr",
     "output_type": "stream",
     "text": [
      "\u001b[1mRows: \u001b[22m\u001b[34m150\u001b[39m \u001b[1mColumns: \u001b[22m\u001b[34m6\u001b[39m\n",
      "\u001b[36m──\u001b[39m \u001b[1mColumn specification\u001b[22m \u001b[36m────────────────────────────────────────────────────────\u001b[39m\n",
      "\u001b[1mDelimiter:\u001b[22m \",\"\n",
      "\u001b[31mchr\u001b[39m (1): Species\n",
      "\u001b[32mdbl\u001b[39m (5): Id, SepalLengthCm, SepalWidthCm, PetalLengthCm, PetalWidthCm\n",
      "\n",
      "\u001b[36mℹ\u001b[39m Use `spec()` to retrieve the full column specification for this data.\n",
      "\u001b[36mℹ\u001b[39m Specify the column types or set `show_col_types = FALSE` to quiet this message.\n"
     ]
    },
    {
     "data": {
      "text/html": [
       "<table class=\"dataframe\">\n",
       "<caption>A spec_tbl_df: 150 × 6</caption>\n",
       "<thead>\n",
       "\t<tr><th scope=col>Id</th><th scope=col>SepalLengthCm</th><th scope=col>SepalWidthCm</th><th scope=col>PetalLengthCm</th><th scope=col>PetalWidthCm</th><th scope=col>Species</th></tr>\n",
       "\t<tr><th scope=col>&lt;dbl&gt;</th><th scope=col>&lt;dbl&gt;</th><th scope=col>&lt;dbl&gt;</th><th scope=col>&lt;dbl&gt;</th><th scope=col>&lt;dbl&gt;</th><th scope=col>&lt;chr&gt;</th></tr>\n",
       "</thead>\n",
       "<tbody>\n",
       "\t<tr><td> 1</td><td>5.1</td><td>3.5</td><td>1.4</td><td>0.2</td><td>Iris-setosa</td></tr>\n",
       "\t<tr><td> 2</td><td>4.9</td><td>3.0</td><td>1.4</td><td>0.2</td><td>Iris-setosa</td></tr>\n",
       "\t<tr><td> 3</td><td>4.7</td><td>3.2</td><td>1.3</td><td>0.2</td><td>Iris-setosa</td></tr>\n",
       "\t<tr><td> 4</td><td>4.6</td><td>3.1</td><td>1.5</td><td>0.2</td><td>Iris-setosa</td></tr>\n",
       "\t<tr><td> 5</td><td>5.0</td><td>3.6</td><td>1.4</td><td>0.2</td><td>Iris-setosa</td></tr>\n",
       "\t<tr><td> 6</td><td>5.4</td><td>3.9</td><td>1.7</td><td>0.4</td><td>Iris-setosa</td></tr>\n",
       "\t<tr><td> 7</td><td>4.6</td><td>3.4</td><td>1.4</td><td>0.3</td><td>Iris-setosa</td></tr>\n",
       "\t<tr><td> 8</td><td>5.0</td><td>3.4</td><td>1.5</td><td>0.2</td><td>Iris-setosa</td></tr>\n",
       "\t<tr><td> 9</td><td>4.4</td><td>2.9</td><td>1.4</td><td>0.2</td><td>Iris-setosa</td></tr>\n",
       "\t<tr><td>10</td><td>4.9</td><td>3.1</td><td>1.5</td><td>0.1</td><td>Iris-setosa</td></tr>\n",
       "\t<tr><td>11</td><td>5.4</td><td>3.7</td><td>1.5</td><td>0.2</td><td>Iris-setosa</td></tr>\n",
       "\t<tr><td>12</td><td>4.8</td><td>3.4</td><td>1.6</td><td>0.2</td><td>Iris-setosa</td></tr>\n",
       "\t<tr><td>13</td><td>4.8</td><td>3.0</td><td>1.4</td><td>0.1</td><td>Iris-setosa</td></tr>\n",
       "\t<tr><td>14</td><td>4.3</td><td>3.0</td><td>1.1</td><td>0.1</td><td>Iris-setosa</td></tr>\n",
       "\t<tr><td>15</td><td>5.8</td><td>4.0</td><td>1.2</td><td>0.2</td><td>Iris-setosa</td></tr>\n",
       "\t<tr><td>16</td><td>5.7</td><td>4.4</td><td>1.5</td><td>0.4</td><td>Iris-setosa</td></tr>\n",
       "\t<tr><td>17</td><td>5.4</td><td>3.9</td><td>1.3</td><td>0.4</td><td>Iris-setosa</td></tr>\n",
       "\t<tr><td>18</td><td>5.1</td><td>3.5</td><td>1.4</td><td>0.3</td><td>Iris-setosa</td></tr>\n",
       "\t<tr><td>19</td><td>5.7</td><td>3.8</td><td>1.7</td><td>0.3</td><td>Iris-setosa</td></tr>\n",
       "\t<tr><td>20</td><td>5.1</td><td>3.8</td><td>1.5</td><td>0.3</td><td>Iris-setosa</td></tr>\n",
       "\t<tr><td>21</td><td>5.4</td><td>3.4</td><td>1.7</td><td>0.2</td><td>Iris-setosa</td></tr>\n",
       "\t<tr><td>22</td><td>5.1</td><td>3.7</td><td>1.5</td><td>0.4</td><td>Iris-setosa</td></tr>\n",
       "\t<tr><td>23</td><td>4.6</td><td>3.6</td><td>1.0</td><td>0.2</td><td>Iris-setosa</td></tr>\n",
       "\t<tr><td>24</td><td>5.1</td><td>3.3</td><td>1.7</td><td>0.5</td><td>Iris-setosa</td></tr>\n",
       "\t<tr><td>25</td><td>4.8</td><td>3.4</td><td>1.9</td><td>0.2</td><td>Iris-setosa</td></tr>\n",
       "\t<tr><td>26</td><td>5.0</td><td>3.0</td><td>1.6</td><td>0.2</td><td>Iris-setosa</td></tr>\n",
       "\t<tr><td>27</td><td>5.0</td><td>3.4</td><td>1.6</td><td>0.4</td><td>Iris-setosa</td></tr>\n",
       "\t<tr><td>28</td><td>5.2</td><td>3.5</td><td>1.5</td><td>0.2</td><td>Iris-setosa</td></tr>\n",
       "\t<tr><td>29</td><td>5.2</td><td>3.4</td><td>1.4</td><td>0.2</td><td>Iris-setosa</td></tr>\n",
       "\t<tr><td>30</td><td>4.7</td><td>3.2</td><td>1.6</td><td>0.2</td><td>Iris-setosa</td></tr>\n",
       "\t<tr><td>⋮</td><td>⋮</td><td>⋮</td><td>⋮</td><td>⋮</td><td>⋮</td></tr>\n",
       "\t<tr><td>121</td><td>6.9</td><td>3.2</td><td>5.7</td><td>2.3</td><td>Iris-virginica</td></tr>\n",
       "\t<tr><td>122</td><td>5.6</td><td>2.8</td><td>4.9</td><td>2.0</td><td>Iris-virginica</td></tr>\n",
       "\t<tr><td>123</td><td>7.7</td><td>2.8</td><td>6.7</td><td>2.0</td><td>Iris-virginica</td></tr>\n",
       "\t<tr><td>124</td><td>6.3</td><td>2.7</td><td>4.9</td><td>1.8</td><td>Iris-virginica</td></tr>\n",
       "\t<tr><td>125</td><td>6.7</td><td>3.3</td><td>5.7</td><td>2.1</td><td>Iris-virginica</td></tr>\n",
       "\t<tr><td>126</td><td>7.2</td><td>3.2</td><td>6.0</td><td>1.8</td><td>Iris-virginica</td></tr>\n",
       "\t<tr><td>127</td><td>6.2</td><td>2.8</td><td>4.8</td><td>1.8</td><td>Iris-virginica</td></tr>\n",
       "\t<tr><td>128</td><td>6.1</td><td>3.0</td><td>4.9</td><td>1.8</td><td>Iris-virginica</td></tr>\n",
       "\t<tr><td>129</td><td>6.4</td><td>2.8</td><td>5.6</td><td>2.1</td><td>Iris-virginica</td></tr>\n",
       "\t<tr><td>130</td><td>7.2</td><td>3.0</td><td>5.8</td><td>1.6</td><td>Iris-virginica</td></tr>\n",
       "\t<tr><td>131</td><td>7.4</td><td>2.8</td><td>6.1</td><td>1.9</td><td>Iris-virginica</td></tr>\n",
       "\t<tr><td>132</td><td>7.9</td><td>3.8</td><td>6.4</td><td>2.0</td><td>Iris-virginica</td></tr>\n",
       "\t<tr><td>133</td><td>6.4</td><td>2.8</td><td>5.6</td><td>2.2</td><td>Iris-virginica</td></tr>\n",
       "\t<tr><td>134</td><td>6.3</td><td>2.8</td><td>5.1</td><td>1.5</td><td>Iris-virginica</td></tr>\n",
       "\t<tr><td>135</td><td>6.1</td><td>2.6</td><td>5.6</td><td>1.4</td><td>Iris-virginica</td></tr>\n",
       "\t<tr><td>136</td><td>7.7</td><td>3.0</td><td>6.1</td><td>2.3</td><td>Iris-virginica</td></tr>\n",
       "\t<tr><td>137</td><td>6.3</td><td>3.4</td><td>5.6</td><td>2.4</td><td>Iris-virginica</td></tr>\n",
       "\t<tr><td>138</td><td>6.4</td><td>3.1</td><td>5.5</td><td>1.8</td><td>Iris-virginica</td></tr>\n",
       "\t<tr><td>139</td><td>6.0</td><td>3.0</td><td>4.8</td><td>1.8</td><td>Iris-virginica</td></tr>\n",
       "\t<tr><td>140</td><td>6.9</td><td>3.1</td><td>5.4</td><td>2.1</td><td>Iris-virginica</td></tr>\n",
       "\t<tr><td>141</td><td>6.7</td><td>3.1</td><td>5.6</td><td>2.4</td><td>Iris-virginica</td></tr>\n",
       "\t<tr><td>142</td><td>6.9</td><td>3.1</td><td>5.1</td><td>2.3</td><td>Iris-virginica</td></tr>\n",
       "\t<tr><td>143</td><td>5.8</td><td>2.7</td><td>5.1</td><td>1.9</td><td>Iris-virginica</td></tr>\n",
       "\t<tr><td>144</td><td>6.8</td><td>3.2</td><td>5.9</td><td>2.3</td><td>Iris-virginica</td></tr>\n",
       "\t<tr><td>145</td><td>6.7</td><td>3.3</td><td>5.7</td><td>2.5</td><td>Iris-virginica</td></tr>\n",
       "\t<tr><td>146</td><td>6.7</td><td>3.0</td><td>5.2</td><td>2.3</td><td>Iris-virginica</td></tr>\n",
       "\t<tr><td>147</td><td>6.3</td><td>2.5</td><td>5.0</td><td>1.9</td><td>Iris-virginica</td></tr>\n",
       "\t<tr><td>148</td><td>6.5</td><td>3.0</td><td>5.2</td><td>2.0</td><td>Iris-virginica</td></tr>\n",
       "\t<tr><td>149</td><td>6.2</td><td>3.4</td><td>5.4</td><td>2.3</td><td>Iris-virginica</td></tr>\n",
       "\t<tr><td>150</td><td>5.9</td><td>3.0</td><td>5.1</td><td>1.8</td><td>Iris-virginica</td></tr>\n",
       "</tbody>\n",
       "</table>\n"
      ],
      "text/latex": [
       "A spec\\_tbl\\_df: 150 × 6\n",
       "\\begin{tabular}{llllll}\n",
       " Id & SepalLengthCm & SepalWidthCm & PetalLengthCm & PetalWidthCm & Species\\\\\n",
       " <dbl> & <dbl> & <dbl> & <dbl> & <dbl> & <chr>\\\\\n",
       "\\hline\n",
       "\t  1 & 5.1 & 3.5 & 1.4 & 0.2 & Iris-setosa\\\\\n",
       "\t  2 & 4.9 & 3.0 & 1.4 & 0.2 & Iris-setosa\\\\\n",
       "\t  3 & 4.7 & 3.2 & 1.3 & 0.2 & Iris-setosa\\\\\n",
       "\t  4 & 4.6 & 3.1 & 1.5 & 0.2 & Iris-setosa\\\\\n",
       "\t  5 & 5.0 & 3.6 & 1.4 & 0.2 & Iris-setosa\\\\\n",
       "\t  6 & 5.4 & 3.9 & 1.7 & 0.4 & Iris-setosa\\\\\n",
       "\t  7 & 4.6 & 3.4 & 1.4 & 0.3 & Iris-setosa\\\\\n",
       "\t  8 & 5.0 & 3.4 & 1.5 & 0.2 & Iris-setosa\\\\\n",
       "\t  9 & 4.4 & 2.9 & 1.4 & 0.2 & Iris-setosa\\\\\n",
       "\t 10 & 4.9 & 3.1 & 1.5 & 0.1 & Iris-setosa\\\\\n",
       "\t 11 & 5.4 & 3.7 & 1.5 & 0.2 & Iris-setosa\\\\\n",
       "\t 12 & 4.8 & 3.4 & 1.6 & 0.2 & Iris-setosa\\\\\n",
       "\t 13 & 4.8 & 3.0 & 1.4 & 0.1 & Iris-setosa\\\\\n",
       "\t 14 & 4.3 & 3.0 & 1.1 & 0.1 & Iris-setosa\\\\\n",
       "\t 15 & 5.8 & 4.0 & 1.2 & 0.2 & Iris-setosa\\\\\n",
       "\t 16 & 5.7 & 4.4 & 1.5 & 0.4 & Iris-setosa\\\\\n",
       "\t 17 & 5.4 & 3.9 & 1.3 & 0.4 & Iris-setosa\\\\\n",
       "\t 18 & 5.1 & 3.5 & 1.4 & 0.3 & Iris-setosa\\\\\n",
       "\t 19 & 5.7 & 3.8 & 1.7 & 0.3 & Iris-setosa\\\\\n",
       "\t 20 & 5.1 & 3.8 & 1.5 & 0.3 & Iris-setosa\\\\\n",
       "\t 21 & 5.4 & 3.4 & 1.7 & 0.2 & Iris-setosa\\\\\n",
       "\t 22 & 5.1 & 3.7 & 1.5 & 0.4 & Iris-setosa\\\\\n",
       "\t 23 & 4.6 & 3.6 & 1.0 & 0.2 & Iris-setosa\\\\\n",
       "\t 24 & 5.1 & 3.3 & 1.7 & 0.5 & Iris-setosa\\\\\n",
       "\t 25 & 4.8 & 3.4 & 1.9 & 0.2 & Iris-setosa\\\\\n",
       "\t 26 & 5.0 & 3.0 & 1.6 & 0.2 & Iris-setosa\\\\\n",
       "\t 27 & 5.0 & 3.4 & 1.6 & 0.4 & Iris-setosa\\\\\n",
       "\t 28 & 5.2 & 3.5 & 1.5 & 0.2 & Iris-setosa\\\\\n",
       "\t 29 & 5.2 & 3.4 & 1.4 & 0.2 & Iris-setosa\\\\\n",
       "\t 30 & 4.7 & 3.2 & 1.6 & 0.2 & Iris-setosa\\\\\n",
       "\t ⋮ & ⋮ & ⋮ & ⋮ & ⋮ & ⋮\\\\\n",
       "\t 121 & 6.9 & 3.2 & 5.7 & 2.3 & Iris-virginica\\\\\n",
       "\t 122 & 5.6 & 2.8 & 4.9 & 2.0 & Iris-virginica\\\\\n",
       "\t 123 & 7.7 & 2.8 & 6.7 & 2.0 & Iris-virginica\\\\\n",
       "\t 124 & 6.3 & 2.7 & 4.9 & 1.8 & Iris-virginica\\\\\n",
       "\t 125 & 6.7 & 3.3 & 5.7 & 2.1 & Iris-virginica\\\\\n",
       "\t 126 & 7.2 & 3.2 & 6.0 & 1.8 & Iris-virginica\\\\\n",
       "\t 127 & 6.2 & 2.8 & 4.8 & 1.8 & Iris-virginica\\\\\n",
       "\t 128 & 6.1 & 3.0 & 4.9 & 1.8 & Iris-virginica\\\\\n",
       "\t 129 & 6.4 & 2.8 & 5.6 & 2.1 & Iris-virginica\\\\\n",
       "\t 130 & 7.2 & 3.0 & 5.8 & 1.6 & Iris-virginica\\\\\n",
       "\t 131 & 7.4 & 2.8 & 6.1 & 1.9 & Iris-virginica\\\\\n",
       "\t 132 & 7.9 & 3.8 & 6.4 & 2.0 & Iris-virginica\\\\\n",
       "\t 133 & 6.4 & 2.8 & 5.6 & 2.2 & Iris-virginica\\\\\n",
       "\t 134 & 6.3 & 2.8 & 5.1 & 1.5 & Iris-virginica\\\\\n",
       "\t 135 & 6.1 & 2.6 & 5.6 & 1.4 & Iris-virginica\\\\\n",
       "\t 136 & 7.7 & 3.0 & 6.1 & 2.3 & Iris-virginica\\\\\n",
       "\t 137 & 6.3 & 3.4 & 5.6 & 2.4 & Iris-virginica\\\\\n",
       "\t 138 & 6.4 & 3.1 & 5.5 & 1.8 & Iris-virginica\\\\\n",
       "\t 139 & 6.0 & 3.0 & 4.8 & 1.8 & Iris-virginica\\\\\n",
       "\t 140 & 6.9 & 3.1 & 5.4 & 2.1 & Iris-virginica\\\\\n",
       "\t 141 & 6.7 & 3.1 & 5.6 & 2.4 & Iris-virginica\\\\\n",
       "\t 142 & 6.9 & 3.1 & 5.1 & 2.3 & Iris-virginica\\\\\n",
       "\t 143 & 5.8 & 2.7 & 5.1 & 1.9 & Iris-virginica\\\\\n",
       "\t 144 & 6.8 & 3.2 & 5.9 & 2.3 & Iris-virginica\\\\\n",
       "\t 145 & 6.7 & 3.3 & 5.7 & 2.5 & Iris-virginica\\\\\n",
       "\t 146 & 6.7 & 3.0 & 5.2 & 2.3 & Iris-virginica\\\\\n",
       "\t 147 & 6.3 & 2.5 & 5.0 & 1.9 & Iris-virginica\\\\\n",
       "\t 148 & 6.5 & 3.0 & 5.2 & 2.0 & Iris-virginica\\\\\n",
       "\t 149 & 6.2 & 3.4 & 5.4 & 2.3 & Iris-virginica\\\\\n",
       "\t 150 & 5.9 & 3.0 & 5.1 & 1.8 & Iris-virginica\\\\\n",
       "\\end{tabular}\n"
      ],
      "text/markdown": [
       "\n",
       "A spec_tbl_df: 150 × 6\n",
       "\n",
       "| Id &lt;dbl&gt; | SepalLengthCm &lt;dbl&gt; | SepalWidthCm &lt;dbl&gt; | PetalLengthCm &lt;dbl&gt; | PetalWidthCm &lt;dbl&gt; | Species &lt;chr&gt; |\n",
       "|---|---|---|---|---|---|\n",
       "|  1 | 5.1 | 3.5 | 1.4 | 0.2 | Iris-setosa |\n",
       "|  2 | 4.9 | 3.0 | 1.4 | 0.2 | Iris-setosa |\n",
       "|  3 | 4.7 | 3.2 | 1.3 | 0.2 | Iris-setosa |\n",
       "|  4 | 4.6 | 3.1 | 1.5 | 0.2 | Iris-setosa |\n",
       "|  5 | 5.0 | 3.6 | 1.4 | 0.2 | Iris-setosa |\n",
       "|  6 | 5.4 | 3.9 | 1.7 | 0.4 | Iris-setosa |\n",
       "|  7 | 4.6 | 3.4 | 1.4 | 0.3 | Iris-setosa |\n",
       "|  8 | 5.0 | 3.4 | 1.5 | 0.2 | Iris-setosa |\n",
       "|  9 | 4.4 | 2.9 | 1.4 | 0.2 | Iris-setosa |\n",
       "| 10 | 4.9 | 3.1 | 1.5 | 0.1 | Iris-setosa |\n",
       "| 11 | 5.4 | 3.7 | 1.5 | 0.2 | Iris-setosa |\n",
       "| 12 | 4.8 | 3.4 | 1.6 | 0.2 | Iris-setosa |\n",
       "| 13 | 4.8 | 3.0 | 1.4 | 0.1 | Iris-setosa |\n",
       "| 14 | 4.3 | 3.0 | 1.1 | 0.1 | Iris-setosa |\n",
       "| 15 | 5.8 | 4.0 | 1.2 | 0.2 | Iris-setosa |\n",
       "| 16 | 5.7 | 4.4 | 1.5 | 0.4 | Iris-setosa |\n",
       "| 17 | 5.4 | 3.9 | 1.3 | 0.4 | Iris-setosa |\n",
       "| 18 | 5.1 | 3.5 | 1.4 | 0.3 | Iris-setosa |\n",
       "| 19 | 5.7 | 3.8 | 1.7 | 0.3 | Iris-setosa |\n",
       "| 20 | 5.1 | 3.8 | 1.5 | 0.3 | Iris-setosa |\n",
       "| 21 | 5.4 | 3.4 | 1.7 | 0.2 | Iris-setosa |\n",
       "| 22 | 5.1 | 3.7 | 1.5 | 0.4 | Iris-setosa |\n",
       "| 23 | 4.6 | 3.6 | 1.0 | 0.2 | Iris-setosa |\n",
       "| 24 | 5.1 | 3.3 | 1.7 | 0.5 | Iris-setosa |\n",
       "| 25 | 4.8 | 3.4 | 1.9 | 0.2 | Iris-setosa |\n",
       "| 26 | 5.0 | 3.0 | 1.6 | 0.2 | Iris-setosa |\n",
       "| 27 | 5.0 | 3.4 | 1.6 | 0.4 | Iris-setosa |\n",
       "| 28 | 5.2 | 3.5 | 1.5 | 0.2 | Iris-setosa |\n",
       "| 29 | 5.2 | 3.4 | 1.4 | 0.2 | Iris-setosa |\n",
       "| 30 | 4.7 | 3.2 | 1.6 | 0.2 | Iris-setosa |\n",
       "| ⋮ | ⋮ | ⋮ | ⋮ | ⋮ | ⋮ |\n",
       "| 121 | 6.9 | 3.2 | 5.7 | 2.3 | Iris-virginica |\n",
       "| 122 | 5.6 | 2.8 | 4.9 | 2.0 | Iris-virginica |\n",
       "| 123 | 7.7 | 2.8 | 6.7 | 2.0 | Iris-virginica |\n",
       "| 124 | 6.3 | 2.7 | 4.9 | 1.8 | Iris-virginica |\n",
       "| 125 | 6.7 | 3.3 | 5.7 | 2.1 | Iris-virginica |\n",
       "| 126 | 7.2 | 3.2 | 6.0 | 1.8 | Iris-virginica |\n",
       "| 127 | 6.2 | 2.8 | 4.8 | 1.8 | Iris-virginica |\n",
       "| 128 | 6.1 | 3.0 | 4.9 | 1.8 | Iris-virginica |\n",
       "| 129 | 6.4 | 2.8 | 5.6 | 2.1 | Iris-virginica |\n",
       "| 130 | 7.2 | 3.0 | 5.8 | 1.6 | Iris-virginica |\n",
       "| 131 | 7.4 | 2.8 | 6.1 | 1.9 | Iris-virginica |\n",
       "| 132 | 7.9 | 3.8 | 6.4 | 2.0 | Iris-virginica |\n",
       "| 133 | 6.4 | 2.8 | 5.6 | 2.2 | Iris-virginica |\n",
       "| 134 | 6.3 | 2.8 | 5.1 | 1.5 | Iris-virginica |\n",
       "| 135 | 6.1 | 2.6 | 5.6 | 1.4 | Iris-virginica |\n",
       "| 136 | 7.7 | 3.0 | 6.1 | 2.3 | Iris-virginica |\n",
       "| 137 | 6.3 | 3.4 | 5.6 | 2.4 | Iris-virginica |\n",
       "| 138 | 6.4 | 3.1 | 5.5 | 1.8 | Iris-virginica |\n",
       "| 139 | 6.0 | 3.0 | 4.8 | 1.8 | Iris-virginica |\n",
       "| 140 | 6.9 | 3.1 | 5.4 | 2.1 | Iris-virginica |\n",
       "| 141 | 6.7 | 3.1 | 5.6 | 2.4 | Iris-virginica |\n",
       "| 142 | 6.9 | 3.1 | 5.1 | 2.3 | Iris-virginica |\n",
       "| 143 | 5.8 | 2.7 | 5.1 | 1.9 | Iris-virginica |\n",
       "| 144 | 6.8 | 3.2 | 5.9 | 2.3 | Iris-virginica |\n",
       "| 145 | 6.7 | 3.3 | 5.7 | 2.5 | Iris-virginica |\n",
       "| 146 | 6.7 | 3.0 | 5.2 | 2.3 | Iris-virginica |\n",
       "| 147 | 6.3 | 2.5 | 5.0 | 1.9 | Iris-virginica |\n",
       "| 148 | 6.5 | 3.0 | 5.2 | 2.0 | Iris-virginica |\n",
       "| 149 | 6.2 | 3.4 | 5.4 | 2.3 | Iris-virginica |\n",
       "| 150 | 5.9 | 3.0 | 5.1 | 1.8 | Iris-virginica |\n",
       "\n"
      ],
      "text/plain": [
       "    Id  SepalLengthCm SepalWidthCm PetalLengthCm PetalWidthCm Species       \n",
       "1    1  5.1           3.5          1.4           0.2          Iris-setosa   \n",
       "2    2  4.9           3.0          1.4           0.2          Iris-setosa   \n",
       "3    3  4.7           3.2          1.3           0.2          Iris-setosa   \n",
       "4    4  4.6           3.1          1.5           0.2          Iris-setosa   \n",
       "5    5  5.0           3.6          1.4           0.2          Iris-setosa   \n",
       "6    6  5.4           3.9          1.7           0.4          Iris-setosa   \n",
       "7    7  4.6           3.4          1.4           0.3          Iris-setosa   \n",
       "8    8  5.0           3.4          1.5           0.2          Iris-setosa   \n",
       "9    9  4.4           2.9          1.4           0.2          Iris-setosa   \n",
       "10  10  4.9           3.1          1.5           0.1          Iris-setosa   \n",
       "11  11  5.4           3.7          1.5           0.2          Iris-setosa   \n",
       "12  12  4.8           3.4          1.6           0.2          Iris-setosa   \n",
       "13  13  4.8           3.0          1.4           0.1          Iris-setosa   \n",
       "14  14  4.3           3.0          1.1           0.1          Iris-setosa   \n",
       "15  15  5.8           4.0          1.2           0.2          Iris-setosa   \n",
       "16  16  5.7           4.4          1.5           0.4          Iris-setosa   \n",
       "17  17  5.4           3.9          1.3           0.4          Iris-setosa   \n",
       "18  18  5.1           3.5          1.4           0.3          Iris-setosa   \n",
       "19  19  5.7           3.8          1.7           0.3          Iris-setosa   \n",
       "20  20  5.1           3.8          1.5           0.3          Iris-setosa   \n",
       "21  21  5.4           3.4          1.7           0.2          Iris-setosa   \n",
       "22  22  5.1           3.7          1.5           0.4          Iris-setosa   \n",
       "23  23  4.6           3.6          1.0           0.2          Iris-setosa   \n",
       "24  24  5.1           3.3          1.7           0.5          Iris-setosa   \n",
       "25  25  4.8           3.4          1.9           0.2          Iris-setosa   \n",
       "26  26  5.0           3.0          1.6           0.2          Iris-setosa   \n",
       "27  27  5.0           3.4          1.6           0.4          Iris-setosa   \n",
       "28  28  5.2           3.5          1.5           0.2          Iris-setosa   \n",
       "29  29  5.2           3.4          1.4           0.2          Iris-setosa   \n",
       "30  30  4.7           3.2          1.6           0.2          Iris-setosa   \n",
       "⋮   ⋮   ⋮             ⋮            ⋮             ⋮            ⋮             \n",
       "121 121 6.9           3.2          5.7           2.3          Iris-virginica\n",
       "122 122 5.6           2.8          4.9           2.0          Iris-virginica\n",
       "123 123 7.7           2.8          6.7           2.0          Iris-virginica\n",
       "124 124 6.3           2.7          4.9           1.8          Iris-virginica\n",
       "125 125 6.7           3.3          5.7           2.1          Iris-virginica\n",
       "126 126 7.2           3.2          6.0           1.8          Iris-virginica\n",
       "127 127 6.2           2.8          4.8           1.8          Iris-virginica\n",
       "128 128 6.1           3.0          4.9           1.8          Iris-virginica\n",
       "129 129 6.4           2.8          5.6           2.1          Iris-virginica\n",
       "130 130 7.2           3.0          5.8           1.6          Iris-virginica\n",
       "131 131 7.4           2.8          6.1           1.9          Iris-virginica\n",
       "132 132 7.9           3.8          6.4           2.0          Iris-virginica\n",
       "133 133 6.4           2.8          5.6           2.2          Iris-virginica\n",
       "134 134 6.3           2.8          5.1           1.5          Iris-virginica\n",
       "135 135 6.1           2.6          5.6           1.4          Iris-virginica\n",
       "136 136 7.7           3.0          6.1           2.3          Iris-virginica\n",
       "137 137 6.3           3.4          5.6           2.4          Iris-virginica\n",
       "138 138 6.4           3.1          5.5           1.8          Iris-virginica\n",
       "139 139 6.0           3.0          4.8           1.8          Iris-virginica\n",
       "140 140 6.9           3.1          5.4           2.1          Iris-virginica\n",
       "141 141 6.7           3.1          5.6           2.4          Iris-virginica\n",
       "142 142 6.9           3.1          5.1           2.3          Iris-virginica\n",
       "143 143 5.8           2.7          5.1           1.9          Iris-virginica\n",
       "144 144 6.8           3.2          5.9           2.3          Iris-virginica\n",
       "145 145 6.7           3.3          5.7           2.5          Iris-virginica\n",
       "146 146 6.7           3.0          5.2           2.3          Iris-virginica\n",
       "147 147 6.3           2.5          5.0           1.9          Iris-virginica\n",
       "148 148 6.5           3.0          5.2           2.0          Iris-virginica\n",
       "149 149 6.2           3.4          5.4           2.3          Iris-virginica\n",
       "150 150 5.9           3.0          5.1           1.8          Iris-virginica"
      ]
     },
     "metadata": {},
     "output_type": "display_data"
    }
   ],
   "source": [
    "url = \"https://raw.githubusercontent.com/SunChang666/dsci126/main/Iris.csv\"\n",
    "iris <- read_delim(url,\n",
    "                  delim=\",\",\n",
    "                  col_names=TRUE)\n",
    "iris"
   ]
  },
  {
   "cell_type": "markdown",
   "id": "ef47bd4b-90c0-4d9f-85e5-a950f5496f01",
   "metadata": {},
   "source": [
    "### Cleaning the dataset"
   ]
  },
  {
   "cell_type": "markdown",
   "id": "acab7cda-f165-436f-9628-8b6c53e79d7e",
   "metadata": {},
   "source": [
    "Now we are trying to make the original data tidy because there are something useless or incorrect in the dataset. We first convert the \"Species\" column from character to factor by using the `mutate` function. Moreover, we need to remove the \"Id\" column since the \"Id\" column is not useful for our following process, which we will accomplish using the select function."
   ]
  },
  {
   "cell_type": "code",
   "execution_count": 3,
   "id": "1b590a21",
   "metadata": {},
   "outputs": [
    {
     "data": {
      "text/html": [
       "<table class=\"dataframe\">\n",
       "<caption>A tibble: 150 × 5</caption>\n",
       "<thead>\n",
       "\t<tr><th scope=col>SepalLengthCm</th><th scope=col>SepalWidthCm</th><th scope=col>PetalLengthCm</th><th scope=col>PetalWidthCm</th><th scope=col>Species</th></tr>\n",
       "\t<tr><th scope=col>&lt;dbl&gt;</th><th scope=col>&lt;dbl&gt;</th><th scope=col>&lt;dbl&gt;</th><th scope=col>&lt;dbl&gt;</th><th scope=col>&lt;fct&gt;</th></tr>\n",
       "</thead>\n",
       "<tbody>\n",
       "\t<tr><td>5.1</td><td>3.5</td><td>1.4</td><td>0.2</td><td>Iris-setosa</td></tr>\n",
       "\t<tr><td>4.9</td><td>3.0</td><td>1.4</td><td>0.2</td><td>Iris-setosa</td></tr>\n",
       "\t<tr><td>4.7</td><td>3.2</td><td>1.3</td><td>0.2</td><td>Iris-setosa</td></tr>\n",
       "\t<tr><td>4.6</td><td>3.1</td><td>1.5</td><td>0.2</td><td>Iris-setosa</td></tr>\n",
       "\t<tr><td>5.0</td><td>3.6</td><td>1.4</td><td>0.2</td><td>Iris-setosa</td></tr>\n",
       "\t<tr><td>5.4</td><td>3.9</td><td>1.7</td><td>0.4</td><td>Iris-setosa</td></tr>\n",
       "\t<tr><td>4.6</td><td>3.4</td><td>1.4</td><td>0.3</td><td>Iris-setosa</td></tr>\n",
       "\t<tr><td>5.0</td><td>3.4</td><td>1.5</td><td>0.2</td><td>Iris-setosa</td></tr>\n",
       "\t<tr><td>4.4</td><td>2.9</td><td>1.4</td><td>0.2</td><td>Iris-setosa</td></tr>\n",
       "\t<tr><td>4.9</td><td>3.1</td><td>1.5</td><td>0.1</td><td>Iris-setosa</td></tr>\n",
       "\t<tr><td>5.4</td><td>3.7</td><td>1.5</td><td>0.2</td><td>Iris-setosa</td></tr>\n",
       "\t<tr><td>4.8</td><td>3.4</td><td>1.6</td><td>0.2</td><td>Iris-setosa</td></tr>\n",
       "\t<tr><td>4.8</td><td>3.0</td><td>1.4</td><td>0.1</td><td>Iris-setosa</td></tr>\n",
       "\t<tr><td>4.3</td><td>3.0</td><td>1.1</td><td>0.1</td><td>Iris-setosa</td></tr>\n",
       "\t<tr><td>5.8</td><td>4.0</td><td>1.2</td><td>0.2</td><td>Iris-setosa</td></tr>\n",
       "\t<tr><td>5.7</td><td>4.4</td><td>1.5</td><td>0.4</td><td>Iris-setosa</td></tr>\n",
       "\t<tr><td>5.4</td><td>3.9</td><td>1.3</td><td>0.4</td><td>Iris-setosa</td></tr>\n",
       "\t<tr><td>5.1</td><td>3.5</td><td>1.4</td><td>0.3</td><td>Iris-setosa</td></tr>\n",
       "\t<tr><td>5.7</td><td>3.8</td><td>1.7</td><td>0.3</td><td>Iris-setosa</td></tr>\n",
       "\t<tr><td>5.1</td><td>3.8</td><td>1.5</td><td>0.3</td><td>Iris-setosa</td></tr>\n",
       "\t<tr><td>5.4</td><td>3.4</td><td>1.7</td><td>0.2</td><td>Iris-setosa</td></tr>\n",
       "\t<tr><td>5.1</td><td>3.7</td><td>1.5</td><td>0.4</td><td>Iris-setosa</td></tr>\n",
       "\t<tr><td>4.6</td><td>3.6</td><td>1.0</td><td>0.2</td><td>Iris-setosa</td></tr>\n",
       "\t<tr><td>5.1</td><td>3.3</td><td>1.7</td><td>0.5</td><td>Iris-setosa</td></tr>\n",
       "\t<tr><td>4.8</td><td>3.4</td><td>1.9</td><td>0.2</td><td>Iris-setosa</td></tr>\n",
       "\t<tr><td>5.0</td><td>3.0</td><td>1.6</td><td>0.2</td><td>Iris-setosa</td></tr>\n",
       "\t<tr><td>5.0</td><td>3.4</td><td>1.6</td><td>0.4</td><td>Iris-setosa</td></tr>\n",
       "\t<tr><td>5.2</td><td>3.5</td><td>1.5</td><td>0.2</td><td>Iris-setosa</td></tr>\n",
       "\t<tr><td>5.2</td><td>3.4</td><td>1.4</td><td>0.2</td><td>Iris-setosa</td></tr>\n",
       "\t<tr><td>4.7</td><td>3.2</td><td>1.6</td><td>0.2</td><td>Iris-setosa</td></tr>\n",
       "\t<tr><td>⋮</td><td>⋮</td><td>⋮</td><td>⋮</td><td>⋮</td></tr>\n",
       "\t<tr><td>6.9</td><td>3.2</td><td>5.7</td><td>2.3</td><td>Iris-virginica</td></tr>\n",
       "\t<tr><td>5.6</td><td>2.8</td><td>4.9</td><td>2.0</td><td>Iris-virginica</td></tr>\n",
       "\t<tr><td>7.7</td><td>2.8</td><td>6.7</td><td>2.0</td><td>Iris-virginica</td></tr>\n",
       "\t<tr><td>6.3</td><td>2.7</td><td>4.9</td><td>1.8</td><td>Iris-virginica</td></tr>\n",
       "\t<tr><td>6.7</td><td>3.3</td><td>5.7</td><td>2.1</td><td>Iris-virginica</td></tr>\n",
       "\t<tr><td>7.2</td><td>3.2</td><td>6.0</td><td>1.8</td><td>Iris-virginica</td></tr>\n",
       "\t<tr><td>6.2</td><td>2.8</td><td>4.8</td><td>1.8</td><td>Iris-virginica</td></tr>\n",
       "\t<tr><td>6.1</td><td>3.0</td><td>4.9</td><td>1.8</td><td>Iris-virginica</td></tr>\n",
       "\t<tr><td>6.4</td><td>2.8</td><td>5.6</td><td>2.1</td><td>Iris-virginica</td></tr>\n",
       "\t<tr><td>7.2</td><td>3.0</td><td>5.8</td><td>1.6</td><td>Iris-virginica</td></tr>\n",
       "\t<tr><td>7.4</td><td>2.8</td><td>6.1</td><td>1.9</td><td>Iris-virginica</td></tr>\n",
       "\t<tr><td>7.9</td><td>3.8</td><td>6.4</td><td>2.0</td><td>Iris-virginica</td></tr>\n",
       "\t<tr><td>6.4</td><td>2.8</td><td>5.6</td><td>2.2</td><td>Iris-virginica</td></tr>\n",
       "\t<tr><td>6.3</td><td>2.8</td><td>5.1</td><td>1.5</td><td>Iris-virginica</td></tr>\n",
       "\t<tr><td>6.1</td><td>2.6</td><td>5.6</td><td>1.4</td><td>Iris-virginica</td></tr>\n",
       "\t<tr><td>7.7</td><td>3.0</td><td>6.1</td><td>2.3</td><td>Iris-virginica</td></tr>\n",
       "\t<tr><td>6.3</td><td>3.4</td><td>5.6</td><td>2.4</td><td>Iris-virginica</td></tr>\n",
       "\t<tr><td>6.4</td><td>3.1</td><td>5.5</td><td>1.8</td><td>Iris-virginica</td></tr>\n",
       "\t<tr><td>6.0</td><td>3.0</td><td>4.8</td><td>1.8</td><td>Iris-virginica</td></tr>\n",
       "\t<tr><td>6.9</td><td>3.1</td><td>5.4</td><td>2.1</td><td>Iris-virginica</td></tr>\n",
       "\t<tr><td>6.7</td><td>3.1</td><td>5.6</td><td>2.4</td><td>Iris-virginica</td></tr>\n",
       "\t<tr><td>6.9</td><td>3.1</td><td>5.1</td><td>2.3</td><td>Iris-virginica</td></tr>\n",
       "\t<tr><td>5.8</td><td>2.7</td><td>5.1</td><td>1.9</td><td>Iris-virginica</td></tr>\n",
       "\t<tr><td>6.8</td><td>3.2</td><td>5.9</td><td>2.3</td><td>Iris-virginica</td></tr>\n",
       "\t<tr><td>6.7</td><td>3.3</td><td>5.7</td><td>2.5</td><td>Iris-virginica</td></tr>\n",
       "\t<tr><td>6.7</td><td>3.0</td><td>5.2</td><td>2.3</td><td>Iris-virginica</td></tr>\n",
       "\t<tr><td>6.3</td><td>2.5</td><td>5.0</td><td>1.9</td><td>Iris-virginica</td></tr>\n",
       "\t<tr><td>6.5</td><td>3.0</td><td>5.2</td><td>2.0</td><td>Iris-virginica</td></tr>\n",
       "\t<tr><td>6.2</td><td>3.4</td><td>5.4</td><td>2.3</td><td>Iris-virginica</td></tr>\n",
       "\t<tr><td>5.9</td><td>3.0</td><td>5.1</td><td>1.8</td><td>Iris-virginica</td></tr>\n",
       "</tbody>\n",
       "</table>\n"
      ],
      "text/latex": [
       "A tibble: 150 × 5\n",
       "\\begin{tabular}{lllll}\n",
       " SepalLengthCm & SepalWidthCm & PetalLengthCm & PetalWidthCm & Species\\\\\n",
       " <dbl> & <dbl> & <dbl> & <dbl> & <fct>\\\\\n",
       "\\hline\n",
       "\t 5.1 & 3.5 & 1.4 & 0.2 & Iris-setosa\\\\\n",
       "\t 4.9 & 3.0 & 1.4 & 0.2 & Iris-setosa\\\\\n",
       "\t 4.7 & 3.2 & 1.3 & 0.2 & Iris-setosa\\\\\n",
       "\t 4.6 & 3.1 & 1.5 & 0.2 & Iris-setosa\\\\\n",
       "\t 5.0 & 3.6 & 1.4 & 0.2 & Iris-setosa\\\\\n",
       "\t 5.4 & 3.9 & 1.7 & 0.4 & Iris-setosa\\\\\n",
       "\t 4.6 & 3.4 & 1.4 & 0.3 & Iris-setosa\\\\\n",
       "\t 5.0 & 3.4 & 1.5 & 0.2 & Iris-setosa\\\\\n",
       "\t 4.4 & 2.9 & 1.4 & 0.2 & Iris-setosa\\\\\n",
       "\t 4.9 & 3.1 & 1.5 & 0.1 & Iris-setosa\\\\\n",
       "\t 5.4 & 3.7 & 1.5 & 0.2 & Iris-setosa\\\\\n",
       "\t 4.8 & 3.4 & 1.6 & 0.2 & Iris-setosa\\\\\n",
       "\t 4.8 & 3.0 & 1.4 & 0.1 & Iris-setosa\\\\\n",
       "\t 4.3 & 3.0 & 1.1 & 0.1 & Iris-setosa\\\\\n",
       "\t 5.8 & 4.0 & 1.2 & 0.2 & Iris-setosa\\\\\n",
       "\t 5.7 & 4.4 & 1.5 & 0.4 & Iris-setosa\\\\\n",
       "\t 5.4 & 3.9 & 1.3 & 0.4 & Iris-setosa\\\\\n",
       "\t 5.1 & 3.5 & 1.4 & 0.3 & Iris-setosa\\\\\n",
       "\t 5.7 & 3.8 & 1.7 & 0.3 & Iris-setosa\\\\\n",
       "\t 5.1 & 3.8 & 1.5 & 0.3 & Iris-setosa\\\\\n",
       "\t 5.4 & 3.4 & 1.7 & 0.2 & Iris-setosa\\\\\n",
       "\t 5.1 & 3.7 & 1.5 & 0.4 & Iris-setosa\\\\\n",
       "\t 4.6 & 3.6 & 1.0 & 0.2 & Iris-setosa\\\\\n",
       "\t 5.1 & 3.3 & 1.7 & 0.5 & Iris-setosa\\\\\n",
       "\t 4.8 & 3.4 & 1.9 & 0.2 & Iris-setosa\\\\\n",
       "\t 5.0 & 3.0 & 1.6 & 0.2 & Iris-setosa\\\\\n",
       "\t 5.0 & 3.4 & 1.6 & 0.4 & Iris-setosa\\\\\n",
       "\t 5.2 & 3.5 & 1.5 & 0.2 & Iris-setosa\\\\\n",
       "\t 5.2 & 3.4 & 1.4 & 0.2 & Iris-setosa\\\\\n",
       "\t 4.7 & 3.2 & 1.6 & 0.2 & Iris-setosa\\\\\n",
       "\t ⋮ & ⋮ & ⋮ & ⋮ & ⋮\\\\\n",
       "\t 6.9 & 3.2 & 5.7 & 2.3 & Iris-virginica\\\\\n",
       "\t 5.6 & 2.8 & 4.9 & 2.0 & Iris-virginica\\\\\n",
       "\t 7.7 & 2.8 & 6.7 & 2.0 & Iris-virginica\\\\\n",
       "\t 6.3 & 2.7 & 4.9 & 1.8 & Iris-virginica\\\\\n",
       "\t 6.7 & 3.3 & 5.7 & 2.1 & Iris-virginica\\\\\n",
       "\t 7.2 & 3.2 & 6.0 & 1.8 & Iris-virginica\\\\\n",
       "\t 6.2 & 2.8 & 4.8 & 1.8 & Iris-virginica\\\\\n",
       "\t 6.1 & 3.0 & 4.9 & 1.8 & Iris-virginica\\\\\n",
       "\t 6.4 & 2.8 & 5.6 & 2.1 & Iris-virginica\\\\\n",
       "\t 7.2 & 3.0 & 5.8 & 1.6 & Iris-virginica\\\\\n",
       "\t 7.4 & 2.8 & 6.1 & 1.9 & Iris-virginica\\\\\n",
       "\t 7.9 & 3.8 & 6.4 & 2.0 & Iris-virginica\\\\\n",
       "\t 6.4 & 2.8 & 5.6 & 2.2 & Iris-virginica\\\\\n",
       "\t 6.3 & 2.8 & 5.1 & 1.5 & Iris-virginica\\\\\n",
       "\t 6.1 & 2.6 & 5.6 & 1.4 & Iris-virginica\\\\\n",
       "\t 7.7 & 3.0 & 6.1 & 2.3 & Iris-virginica\\\\\n",
       "\t 6.3 & 3.4 & 5.6 & 2.4 & Iris-virginica\\\\\n",
       "\t 6.4 & 3.1 & 5.5 & 1.8 & Iris-virginica\\\\\n",
       "\t 6.0 & 3.0 & 4.8 & 1.8 & Iris-virginica\\\\\n",
       "\t 6.9 & 3.1 & 5.4 & 2.1 & Iris-virginica\\\\\n",
       "\t 6.7 & 3.1 & 5.6 & 2.4 & Iris-virginica\\\\\n",
       "\t 6.9 & 3.1 & 5.1 & 2.3 & Iris-virginica\\\\\n",
       "\t 5.8 & 2.7 & 5.1 & 1.9 & Iris-virginica\\\\\n",
       "\t 6.8 & 3.2 & 5.9 & 2.3 & Iris-virginica\\\\\n",
       "\t 6.7 & 3.3 & 5.7 & 2.5 & Iris-virginica\\\\\n",
       "\t 6.7 & 3.0 & 5.2 & 2.3 & Iris-virginica\\\\\n",
       "\t 6.3 & 2.5 & 5.0 & 1.9 & Iris-virginica\\\\\n",
       "\t 6.5 & 3.0 & 5.2 & 2.0 & Iris-virginica\\\\\n",
       "\t 6.2 & 3.4 & 5.4 & 2.3 & Iris-virginica\\\\\n",
       "\t 5.9 & 3.0 & 5.1 & 1.8 & Iris-virginica\\\\\n",
       "\\end{tabular}\n"
      ],
      "text/markdown": [
       "\n",
       "A tibble: 150 × 5\n",
       "\n",
       "| SepalLengthCm &lt;dbl&gt; | SepalWidthCm &lt;dbl&gt; | PetalLengthCm &lt;dbl&gt; | PetalWidthCm &lt;dbl&gt; | Species &lt;fct&gt; |\n",
       "|---|---|---|---|---|\n",
       "| 5.1 | 3.5 | 1.4 | 0.2 | Iris-setosa |\n",
       "| 4.9 | 3.0 | 1.4 | 0.2 | Iris-setosa |\n",
       "| 4.7 | 3.2 | 1.3 | 0.2 | Iris-setosa |\n",
       "| 4.6 | 3.1 | 1.5 | 0.2 | Iris-setosa |\n",
       "| 5.0 | 3.6 | 1.4 | 0.2 | Iris-setosa |\n",
       "| 5.4 | 3.9 | 1.7 | 0.4 | Iris-setosa |\n",
       "| 4.6 | 3.4 | 1.4 | 0.3 | Iris-setosa |\n",
       "| 5.0 | 3.4 | 1.5 | 0.2 | Iris-setosa |\n",
       "| 4.4 | 2.9 | 1.4 | 0.2 | Iris-setosa |\n",
       "| 4.9 | 3.1 | 1.5 | 0.1 | Iris-setosa |\n",
       "| 5.4 | 3.7 | 1.5 | 0.2 | Iris-setosa |\n",
       "| 4.8 | 3.4 | 1.6 | 0.2 | Iris-setosa |\n",
       "| 4.8 | 3.0 | 1.4 | 0.1 | Iris-setosa |\n",
       "| 4.3 | 3.0 | 1.1 | 0.1 | Iris-setosa |\n",
       "| 5.8 | 4.0 | 1.2 | 0.2 | Iris-setosa |\n",
       "| 5.7 | 4.4 | 1.5 | 0.4 | Iris-setosa |\n",
       "| 5.4 | 3.9 | 1.3 | 0.4 | Iris-setosa |\n",
       "| 5.1 | 3.5 | 1.4 | 0.3 | Iris-setosa |\n",
       "| 5.7 | 3.8 | 1.7 | 0.3 | Iris-setosa |\n",
       "| 5.1 | 3.8 | 1.5 | 0.3 | Iris-setosa |\n",
       "| 5.4 | 3.4 | 1.7 | 0.2 | Iris-setosa |\n",
       "| 5.1 | 3.7 | 1.5 | 0.4 | Iris-setosa |\n",
       "| 4.6 | 3.6 | 1.0 | 0.2 | Iris-setosa |\n",
       "| 5.1 | 3.3 | 1.7 | 0.5 | Iris-setosa |\n",
       "| 4.8 | 3.4 | 1.9 | 0.2 | Iris-setosa |\n",
       "| 5.0 | 3.0 | 1.6 | 0.2 | Iris-setosa |\n",
       "| 5.0 | 3.4 | 1.6 | 0.4 | Iris-setosa |\n",
       "| 5.2 | 3.5 | 1.5 | 0.2 | Iris-setosa |\n",
       "| 5.2 | 3.4 | 1.4 | 0.2 | Iris-setosa |\n",
       "| 4.7 | 3.2 | 1.6 | 0.2 | Iris-setosa |\n",
       "| ⋮ | ⋮ | ⋮ | ⋮ | ⋮ |\n",
       "| 6.9 | 3.2 | 5.7 | 2.3 | Iris-virginica |\n",
       "| 5.6 | 2.8 | 4.9 | 2.0 | Iris-virginica |\n",
       "| 7.7 | 2.8 | 6.7 | 2.0 | Iris-virginica |\n",
       "| 6.3 | 2.7 | 4.9 | 1.8 | Iris-virginica |\n",
       "| 6.7 | 3.3 | 5.7 | 2.1 | Iris-virginica |\n",
       "| 7.2 | 3.2 | 6.0 | 1.8 | Iris-virginica |\n",
       "| 6.2 | 2.8 | 4.8 | 1.8 | Iris-virginica |\n",
       "| 6.1 | 3.0 | 4.9 | 1.8 | Iris-virginica |\n",
       "| 6.4 | 2.8 | 5.6 | 2.1 | Iris-virginica |\n",
       "| 7.2 | 3.0 | 5.8 | 1.6 | Iris-virginica |\n",
       "| 7.4 | 2.8 | 6.1 | 1.9 | Iris-virginica |\n",
       "| 7.9 | 3.8 | 6.4 | 2.0 | Iris-virginica |\n",
       "| 6.4 | 2.8 | 5.6 | 2.2 | Iris-virginica |\n",
       "| 6.3 | 2.8 | 5.1 | 1.5 | Iris-virginica |\n",
       "| 6.1 | 2.6 | 5.6 | 1.4 | Iris-virginica |\n",
       "| 7.7 | 3.0 | 6.1 | 2.3 | Iris-virginica |\n",
       "| 6.3 | 3.4 | 5.6 | 2.4 | Iris-virginica |\n",
       "| 6.4 | 3.1 | 5.5 | 1.8 | Iris-virginica |\n",
       "| 6.0 | 3.0 | 4.8 | 1.8 | Iris-virginica |\n",
       "| 6.9 | 3.1 | 5.4 | 2.1 | Iris-virginica |\n",
       "| 6.7 | 3.1 | 5.6 | 2.4 | Iris-virginica |\n",
       "| 6.9 | 3.1 | 5.1 | 2.3 | Iris-virginica |\n",
       "| 5.8 | 2.7 | 5.1 | 1.9 | Iris-virginica |\n",
       "| 6.8 | 3.2 | 5.9 | 2.3 | Iris-virginica |\n",
       "| 6.7 | 3.3 | 5.7 | 2.5 | Iris-virginica |\n",
       "| 6.7 | 3.0 | 5.2 | 2.3 | Iris-virginica |\n",
       "| 6.3 | 2.5 | 5.0 | 1.9 | Iris-virginica |\n",
       "| 6.5 | 3.0 | 5.2 | 2.0 | Iris-virginica |\n",
       "| 6.2 | 3.4 | 5.4 | 2.3 | Iris-virginica |\n",
       "| 5.9 | 3.0 | 5.1 | 1.8 | Iris-virginica |\n",
       "\n"
      ],
      "text/plain": [
       "    SepalLengthCm SepalWidthCm PetalLengthCm PetalWidthCm Species       \n",
       "1   5.1           3.5          1.4           0.2          Iris-setosa   \n",
       "2   4.9           3.0          1.4           0.2          Iris-setosa   \n",
       "3   4.7           3.2          1.3           0.2          Iris-setosa   \n",
       "4   4.6           3.1          1.5           0.2          Iris-setosa   \n",
       "5   5.0           3.6          1.4           0.2          Iris-setosa   \n",
       "6   5.4           3.9          1.7           0.4          Iris-setosa   \n",
       "7   4.6           3.4          1.4           0.3          Iris-setosa   \n",
       "8   5.0           3.4          1.5           0.2          Iris-setosa   \n",
       "9   4.4           2.9          1.4           0.2          Iris-setosa   \n",
       "10  4.9           3.1          1.5           0.1          Iris-setosa   \n",
       "11  5.4           3.7          1.5           0.2          Iris-setosa   \n",
       "12  4.8           3.4          1.6           0.2          Iris-setosa   \n",
       "13  4.8           3.0          1.4           0.1          Iris-setosa   \n",
       "14  4.3           3.0          1.1           0.1          Iris-setosa   \n",
       "15  5.8           4.0          1.2           0.2          Iris-setosa   \n",
       "16  5.7           4.4          1.5           0.4          Iris-setosa   \n",
       "17  5.4           3.9          1.3           0.4          Iris-setosa   \n",
       "18  5.1           3.5          1.4           0.3          Iris-setosa   \n",
       "19  5.7           3.8          1.7           0.3          Iris-setosa   \n",
       "20  5.1           3.8          1.5           0.3          Iris-setosa   \n",
       "21  5.4           3.4          1.7           0.2          Iris-setosa   \n",
       "22  5.1           3.7          1.5           0.4          Iris-setosa   \n",
       "23  4.6           3.6          1.0           0.2          Iris-setosa   \n",
       "24  5.1           3.3          1.7           0.5          Iris-setosa   \n",
       "25  4.8           3.4          1.9           0.2          Iris-setosa   \n",
       "26  5.0           3.0          1.6           0.2          Iris-setosa   \n",
       "27  5.0           3.4          1.6           0.4          Iris-setosa   \n",
       "28  5.2           3.5          1.5           0.2          Iris-setosa   \n",
       "29  5.2           3.4          1.4           0.2          Iris-setosa   \n",
       "30  4.7           3.2          1.6           0.2          Iris-setosa   \n",
       "⋮   ⋮             ⋮            ⋮             ⋮            ⋮             \n",
       "121 6.9           3.2          5.7           2.3          Iris-virginica\n",
       "122 5.6           2.8          4.9           2.0          Iris-virginica\n",
       "123 7.7           2.8          6.7           2.0          Iris-virginica\n",
       "124 6.3           2.7          4.9           1.8          Iris-virginica\n",
       "125 6.7           3.3          5.7           2.1          Iris-virginica\n",
       "126 7.2           3.2          6.0           1.8          Iris-virginica\n",
       "127 6.2           2.8          4.8           1.8          Iris-virginica\n",
       "128 6.1           3.0          4.9           1.8          Iris-virginica\n",
       "129 6.4           2.8          5.6           2.1          Iris-virginica\n",
       "130 7.2           3.0          5.8           1.6          Iris-virginica\n",
       "131 7.4           2.8          6.1           1.9          Iris-virginica\n",
       "132 7.9           3.8          6.4           2.0          Iris-virginica\n",
       "133 6.4           2.8          5.6           2.2          Iris-virginica\n",
       "134 6.3           2.8          5.1           1.5          Iris-virginica\n",
       "135 6.1           2.6          5.6           1.4          Iris-virginica\n",
       "136 7.7           3.0          6.1           2.3          Iris-virginica\n",
       "137 6.3           3.4          5.6           2.4          Iris-virginica\n",
       "138 6.4           3.1          5.5           1.8          Iris-virginica\n",
       "139 6.0           3.0          4.8           1.8          Iris-virginica\n",
       "140 6.9           3.1          5.4           2.1          Iris-virginica\n",
       "141 6.7           3.1          5.6           2.4          Iris-virginica\n",
       "142 6.9           3.1          5.1           2.3          Iris-virginica\n",
       "143 5.8           2.7          5.1           1.9          Iris-virginica\n",
       "144 6.8           3.2          5.9           2.3          Iris-virginica\n",
       "145 6.7           3.3          5.7           2.5          Iris-virginica\n",
       "146 6.7           3.0          5.2           2.3          Iris-virginica\n",
       "147 6.3           2.5          5.0           1.9          Iris-virginica\n",
       "148 6.5           3.0          5.2           2.0          Iris-virginica\n",
       "149 6.2           3.4          5.4           2.3          Iris-virginica\n",
       "150 5.9           3.0          5.1           1.8          Iris-virginica"
      ]
     },
     "metadata": {},
     "output_type": "display_data"
    }
   ],
   "source": [
    "iris_tidy <- iris|>\n",
    "             mutate(Species = as.factor(Species))|>\n",
    "             select(!Id)\n",
    "iris_tidy"
   ]
  },
  {
   "cell_type": "markdown",
   "id": "a9bbc25f-902b-4476-9c70-ec0fe9c41e63",
   "metadata": {},
   "source": [
    "### Describing the variables\n",
    "Factors have “levels,” which are though of as categories. We can verify the levels of the Species column by using the levels function, which should return the name of each category in that column. "
   ]
  },
  {
   "cell_type": "code",
   "execution_count": 4,
   "id": "5ea23a05-2a3a-40e6-83dc-4c667c4ba0b1",
   "metadata": {},
   "outputs": [
    {
     "data": {
      "text/html": [
       "<style>\n",
       ".list-inline {list-style: none; margin:0; padding: 0}\n",
       ".list-inline>li {display: inline-block}\n",
       ".list-inline>li:not(:last-child)::after {content: \"\\00b7\"; padding: 0 .5ex}\n",
       "</style>\n",
       "<ol class=list-inline><li>'Iris-setosa'</li><li>'Iris-versicolor'</li><li>'Iris-virginica'</li></ol>\n"
      ],
      "text/latex": [
       "\\begin{enumerate*}\n",
       "\\item 'Iris-setosa'\n",
       "\\item 'Iris-versicolor'\n",
       "\\item 'Iris-virginica'\n",
       "\\end{enumerate*}\n"
      ],
      "text/markdown": [
       "1. 'Iris-setosa'\n",
       "2. 'Iris-versicolor'\n",
       "3. 'Iris-virginica'\n",
       "\n",
       "\n"
      ],
      "text/plain": [
       "[1] \"Iris-setosa\"     \"Iris-versicolor\" \"Iris-virginica\" "
      ]
     },
     "metadata": {},
     "output_type": "display_data"
    }
   ],
   "source": [
    "iris_tidy |> \n",
    "          pull(Species) |>\n",
    "          levels()"
   ]
  },
  {
   "cell_type": "markdown",
   "id": "41ec75b0-8175-4442-af66-b0ce9a5c2912",
   "metadata": {},
   "source": [
    "### Exploring the iris data\n",
    "Below we use the group_by, summarize and n functions to find the number and percentage of each species of observations in our data set. "
   ]
  },
  {
   "cell_type": "code",
   "execution_count": 5,
   "id": "e2350dc1-7ac5-4aed-972b-e203ed929084",
   "metadata": {},
   "outputs": [
    {
     "data": {
      "text/html": [
       "<table class=\"dataframe\">\n",
       "<caption>A tibble: 3 × 3</caption>\n",
       "<thead>\n",
       "\t<tr><th scope=col>Species</th><th scope=col>count</th><th scope=col>percentage</th></tr>\n",
       "\t<tr><th scope=col>&lt;fct&gt;</th><th scope=col>&lt;int&gt;</th><th scope=col>&lt;dbl&gt;</th></tr>\n",
       "</thead>\n",
       "<tbody>\n",
       "\t<tr><td>Iris-setosa    </td><td>50</td><td>33.33333</td></tr>\n",
       "\t<tr><td>Iris-versicolor</td><td>50</td><td>33.33333</td></tr>\n",
       "\t<tr><td>Iris-virginica </td><td>50</td><td>33.33333</td></tr>\n",
       "</tbody>\n",
       "</table>\n"
      ],
      "text/latex": [
       "A tibble: 3 × 3\n",
       "\\begin{tabular}{lll}\n",
       " Species & count & percentage\\\\\n",
       " <fct> & <int> & <dbl>\\\\\n",
       "\\hline\n",
       "\t Iris-setosa     & 50 & 33.33333\\\\\n",
       "\t Iris-versicolor & 50 & 33.33333\\\\\n",
       "\t Iris-virginica  & 50 & 33.33333\\\\\n",
       "\\end{tabular}\n"
      ],
      "text/markdown": [
       "\n",
       "A tibble: 3 × 3\n",
       "\n",
       "| Species &lt;fct&gt; | count &lt;int&gt; | percentage &lt;dbl&gt; |\n",
       "|---|---|---|\n",
       "| Iris-setosa     | 50 | 33.33333 |\n",
       "| Iris-versicolor | 50 | 33.33333 |\n",
       "| Iris-virginica  | 50 | 33.33333 |\n",
       "\n"
      ],
      "text/plain": [
       "  Species         count percentage\n",
       "1 Iris-setosa     50    33.33333  \n",
       "2 Iris-versicolor 50    33.33333  \n",
       "3 Iris-virginica  50    33.33333  "
      ]
     },
     "metadata": {},
     "output_type": "display_data"
    }
   ],
   "source": [
    "num_obs <- nrow(iris_tidy)\n",
    "           iris_tidy |>\n",
    "           group_by(Species) |>\n",
    "           summarize(count = n(),\n",
    "                     percentage = n() / num_obs * 100)"
   ]
  },
  {
   "cell_type": "markdown",
   "id": "329f4787-f147-4b18-8523-56c33072b683",
   "metadata": {},
   "source": [
    "We have 50 observations (33.33%) of each of the iris three iris species (Iris setosa, Iris virginica and Iris versicolor)."
   ]
  },
  {
   "cell_type": "markdown",
   "id": "a4415b47-edd0-4a16-849a-b34714804ecf",
   "metadata": {},
   "source": [
    "### Splitting the data into a training and test set"
   ]
  },
  {
   "cell_type": "markdown",
   "id": "210f84b6-ba21-461c-b789-4cf7c0417d11",
   "metadata": {},
   "source": [
    "According to the golden rule of machine learning, we should always split the dataset into training data and testing data and only use the training data to create the classifier. The testing data will be used as the \"test\" to evaluate the accuracy of this classifier. We will set `seed 200` here to make our prediction randomly and reproducible. We use 80 percent data of the oringinal dataset by using `prop=0.8`."
   ]
  },
  {
   "cell_type": "code",
   "execution_count": 6,
   "id": "2c5fd30c-6156-4308-951f-144b93d72627",
   "metadata": {},
   "outputs": [
    {
     "data": {
      "text/plain": [
       "<Training/Testing/Total>\n",
       "<120/30/150>"
      ]
     },
     "metadata": {},
     "output_type": "display_data"
    }
   ],
   "source": [
    "set.seed(200)\n",
    "iris_split <- initial_split(iris_tidy, prop= 0.8, strata = Species)\n",
    "iris_train <- training(iris_split)\n",
    "iris_test <- testing(iris_split)\n",
    "\n",
    "iris_split"
   ]
  },
  {
   "cell_type": "markdown",
   "id": "a6b81ca7-997c-4cf2-b2bf-fa1eb207135b",
   "metadata": {},
   "source": [
    "At this point, we have calculated the required statistics based on the data input into the recipe, but the data are not yet scaled and centered."
   ]
  },
  {
   "cell_type": "markdown",
   "id": "06549348-cab4-4111-a46e-e2c78a461657",
   "metadata": {},
   "source": [
    "### Preprocessing The Data (Centering and Scaling)"
   ]
  },
  {
   "cell_type": "markdown",
   "id": "8c1b9a2b-93b0-4c6f-b7e7-a17fdfc8cbf2",
   "metadata": {},
   "source": [
    "As K-nearest neighbors is sensitive to the scale of the predictors, we will preprocess the data to standardize it. We will add scaling (step_scale) and centering (step_center) steps for all of the predictors so that they each have a mean of 0 and standard deviation of 1."
   ]
  },
  {
   "cell_type": "markdown",
   "id": "d0d6c8b3-ab1e-4f10-ac46-f324fc77ce4c",
   "metadata": {},
   "source": [
    "Below, we set `seed 300` and construct the recipe with training data and scaling all of the training data."
   ]
  },
  {
   "cell_type": "code",
   "execution_count": 7,
   "id": "bcbd0329-2c3d-4b50-9cc9-615da0933a42",
   "metadata": {},
   "outputs": [
    {
     "data": {
      "text/plain": [
       "Recipe\n",
       "\n",
       "Inputs:\n",
       "\n",
       "      role #variables\n",
       "   outcome          1\n",
       " predictor          4\n",
       "\n",
       "Operations:\n",
       "\n",
       "Scaling for all_predictors()\n",
       "Centering for all_predictors()"
      ]
     },
     "metadata": {},
     "output_type": "display_data"
    }
   ],
   "source": [
    "set.seed(300)\n",
    "\n",
    "iris_recipe <- recipe(Species ~., data = iris_train) %>%\n",
    "               step_scale(all_predictors()) %>%\n",
    "               step_center(all_predictors())\n",
    "iris_recipe"
   ]
  },
  {
   "cell_type": "markdown",
   "id": "0f0d6764-df96-44f1-964c-fc74558596fc",
   "metadata": {},
   "source": [
    "### Training the classifier"
   ]
  },
  {
   "cell_type": "markdown",
   "id": "032ceae7-364c-4d11-b6f8-4c2efca81df7",
   "metadata": {},
   "source": [
    "Since we still have no idea of the value of neighbors, we write tune in neighbors to find the best value of k."
   ]
  },
  {
   "cell_type": "code",
   "execution_count": 8,
   "id": "a00422ee-9398-42cd-aa96-a8712cb070df",
   "metadata": {},
   "outputs": [
    {
     "data": {
      "text/plain": [
       "K-Nearest Neighbor Model Specification (classification)\n",
       "\n",
       "Main Arguments:\n",
       "  neighbors = tune()\n",
       "  weight_func = rectangular\n",
       "\n",
       "Computational engine: kknn \n"
      ]
     },
     "metadata": {},
     "output_type": "display_data"
    }
   ],
   "source": [
    "set.seed(300)\n",
    "\n",
    "knn_spec <- nearest_neighbor(weight_func = \"rectangular\", neighbors = tune())|>\n",
    "            set_engine(\"kknn\")|>\n",
    "            set_mode(\"classification\")\n",
    "knn_spec"
   ]
  },
  {
   "cell_type": "markdown",
   "id": "73ae505c-f3e3-4be6-87ad-639a4fc4c2d1",
   "metadata": {},
   "source": [
    "#### Perform Cross Validation "
   ]
  },
  {
   "cell_type": "markdown",
   "id": "c932bc04-b7fe-40b5-bd0c-0d2c11533443",
   "metadata": {},
   "source": [
    "We will perform the 5-fold-cross-validation method below."
   ]
  },
  {
   "cell_type": "code",
   "execution_count": 9,
   "id": "4785ced7-4b7b-4af6-a438-3da49bea6192",
   "metadata": {},
   "outputs": [],
   "source": [
    "set.seed(300)\n",
    "\n",
    "iris_vfold <- vfold_cv(iris_train, v = 5, strata = Species)"
   ]
  },
  {
   "cell_type": "markdown",
   "id": "81043388-1703-4550-a3ed-ae6d1b120caf",
   "metadata": {},
   "source": [
    "#### Creata a Tibble To Classify"
   ]
  },
  {
   "cell_type": "markdown",
   "id": "66b777c8-1be1-4a30-b18a-78055581a5e4",
   "metadata": {},
   "source": [
    "We create a tibble that includes the sequence from 1 to 91 below."
   ]
  },
  {
   "cell_type": "code",
   "execution_count": 10,
   "id": "dfffadcc-2d4f-4c76-a046-9c9fa7dafe7b",
   "metadata": {},
   "outputs": [
    {
     "data": {
      "text/html": [
       "<table class=\"dataframe\">\n",
       "<caption>A tibble: 6 × 1</caption>\n",
       "<thead>\n",
       "\t<tr><th scope=col>neighbors</th></tr>\n",
       "\t<tr><th scope=col>&lt;dbl&gt;</th></tr>\n",
       "</thead>\n",
       "<tbody>\n",
       "\t<tr><td> 1</td></tr>\n",
       "\t<tr><td> 6</td></tr>\n",
       "\t<tr><td>11</td></tr>\n",
       "\t<tr><td>16</td></tr>\n",
       "\t<tr><td>21</td></tr>\n",
       "\t<tr><td>26</td></tr>\n",
       "</tbody>\n",
       "</table>\n"
      ],
      "text/latex": [
       "A tibble: 6 × 1\n",
       "\\begin{tabular}{l}\n",
       " neighbors\\\\\n",
       " <dbl>\\\\\n",
       "\\hline\n",
       "\t  1\\\\\n",
       "\t  6\\\\\n",
       "\t 11\\\\\n",
       "\t 16\\\\\n",
       "\t 21\\\\\n",
       "\t 26\\\\\n",
       "\\end{tabular}\n"
      ],
      "text/markdown": [
       "\n",
       "A tibble: 6 × 1\n",
       "\n",
       "| neighbors &lt;dbl&gt; |\n",
       "|---|\n",
       "|  1 |\n",
       "|  6 |\n",
       "| 11 |\n",
       "| 16 |\n",
       "| 21 |\n",
       "| 26 |\n",
       "\n"
      ],
      "text/plain": [
       "  neighbors\n",
       "1  1       \n",
       "2  6       \n",
       "3 11       \n",
       "4 16       \n",
       "5 21       \n",
       "6 26       "
      ]
     },
     "metadata": {},
     "output_type": "display_data"
    }
   ],
   "source": [
    "gridvals <- tibble(neighbors = seq(from = 1, to = 30, by = 5))\n",
    "gridvals"
   ]
  },
  {
   "cell_type": "markdown",
   "id": "17d171b8-8c22-4d9b-a1c2-a7fb79edffd4",
   "metadata": {},
   "source": [
    "#### Add Everything In A Workflow"
   ]
  },
  {
   "cell_type": "markdown",
   "id": "d9677efd-c87e-4baa-ac54-18dce3fd4574",
   "metadata": {},
   "source": [
    "We need to create a model specification, combine the model specification and recipe into a workflow, and then use `tune_grid` with resamples `iris vfold` and `tibble gridvals`."
   ]
  },
  {
   "cell_type": "code",
   "execution_count": 11,
   "id": "730276b3-88a9-4bb6-9a8f-5225220aa0d2",
   "metadata": {},
   "outputs": [
    {
     "data": {
      "text/html": [
       "<table class=\"dataframe\">\n",
       "<caption>A tibble: 12 × 7</caption>\n",
       "<thead>\n",
       "\t<tr><th scope=col>neighbors</th><th scope=col>.metric</th><th scope=col>.estimator</th><th scope=col>mean</th><th scope=col>n</th><th scope=col>std_err</th><th scope=col>.config</th></tr>\n",
       "\t<tr><th scope=col>&lt;dbl&gt;</th><th scope=col>&lt;chr&gt;</th><th scope=col>&lt;chr&gt;</th><th scope=col>&lt;dbl&gt;</th><th scope=col>&lt;int&gt;</th><th scope=col>&lt;dbl&gt;</th><th scope=col>&lt;chr&gt;</th></tr>\n",
       "</thead>\n",
       "<tbody>\n",
       "\t<tr><td> 1</td><td>accuracy</td><td>multiclass</td><td>0.9333333</td><td>5</td><td>0.016666667</td><td>Preprocessor1_Model1</td></tr>\n",
       "\t<tr><td> 1</td><td>roc_auc </td><td>hand_till </td><td>0.9500000</td><td>5</td><td>0.012500000</td><td>Preprocessor1_Model1</td></tr>\n",
       "\t<tr><td> 6</td><td>accuracy</td><td>multiclass</td><td>0.9333333</td><td>5</td><td>0.038640077</td><td>Preprocessor1_Model2</td></tr>\n",
       "\t<tr><td> 6</td><td>roc_auc </td><td>hand_till </td><td>0.9914062</td><td>5</td><td>0.006479091</td><td>Preprocessor1_Model2</td></tr>\n",
       "\t<tr><td>11</td><td>accuracy</td><td>multiclass</td><td>0.9583333</td><td>5</td><td>0.013176157</td><td>Preprocessor1_Model3</td></tr>\n",
       "\t<tr><td>11</td><td>roc_auc </td><td>hand_till </td><td>0.9937500</td><td>5</td><td>0.005049667</td><td>Preprocessor1_Model3</td></tr>\n",
       "\t<tr><td>16</td><td>accuracy</td><td>multiclass</td><td>0.9333333</td><td>5</td><td>0.016666667</td><td>Preprocessor1_Model4</td></tr>\n",
       "\t<tr><td>16</td><td>roc_auc </td><td>hand_till </td><td>0.9927083</td><td>5</td><td>0.007291667</td><td>Preprocessor1_Model4</td></tr>\n",
       "\t<tr><td>21</td><td>accuracy</td><td>multiclass</td><td>0.9166667</td><td>5</td><td>0.022821773</td><td>Preprocessor1_Model5</td></tr>\n",
       "\t<tr><td>21</td><td>roc_auc </td><td>hand_till </td><td>0.9893229</td><td>5</td><td>0.007881639</td><td>Preprocessor1_Model5</td></tr>\n",
       "\t<tr><td>26</td><td>accuracy</td><td>multiclass</td><td>0.9250000</td><td>5</td><td>0.015590239</td><td>Preprocessor1_Model6</td></tr>\n",
       "\t<tr><td>26</td><td>roc_auc </td><td>hand_till </td><td>0.9848958</td><td>5</td><td>0.008769510</td><td>Preprocessor1_Model6</td></tr>\n",
       "</tbody>\n",
       "</table>\n"
      ],
      "text/latex": [
       "A tibble: 12 × 7\n",
       "\\begin{tabular}{lllllll}\n",
       " neighbors & .metric & .estimator & mean & n & std\\_err & .config\\\\\n",
       " <dbl> & <chr> & <chr> & <dbl> & <int> & <dbl> & <chr>\\\\\n",
       "\\hline\n",
       "\t  1 & accuracy & multiclass & 0.9333333 & 5 & 0.016666667 & Preprocessor1\\_Model1\\\\\n",
       "\t  1 & roc\\_auc  & hand\\_till  & 0.9500000 & 5 & 0.012500000 & Preprocessor1\\_Model1\\\\\n",
       "\t  6 & accuracy & multiclass & 0.9333333 & 5 & 0.038640077 & Preprocessor1\\_Model2\\\\\n",
       "\t  6 & roc\\_auc  & hand\\_till  & 0.9914062 & 5 & 0.006479091 & Preprocessor1\\_Model2\\\\\n",
       "\t 11 & accuracy & multiclass & 0.9583333 & 5 & 0.013176157 & Preprocessor1\\_Model3\\\\\n",
       "\t 11 & roc\\_auc  & hand\\_till  & 0.9937500 & 5 & 0.005049667 & Preprocessor1\\_Model3\\\\\n",
       "\t 16 & accuracy & multiclass & 0.9333333 & 5 & 0.016666667 & Preprocessor1\\_Model4\\\\\n",
       "\t 16 & roc\\_auc  & hand\\_till  & 0.9927083 & 5 & 0.007291667 & Preprocessor1\\_Model4\\\\\n",
       "\t 21 & accuracy & multiclass & 0.9166667 & 5 & 0.022821773 & Preprocessor1\\_Model5\\\\\n",
       "\t 21 & roc\\_auc  & hand\\_till  & 0.9893229 & 5 & 0.007881639 & Preprocessor1\\_Model5\\\\\n",
       "\t 26 & accuracy & multiclass & 0.9250000 & 5 & 0.015590239 & Preprocessor1\\_Model6\\\\\n",
       "\t 26 & roc\\_auc  & hand\\_till  & 0.9848958 & 5 & 0.008769510 & Preprocessor1\\_Model6\\\\\n",
       "\\end{tabular}\n"
      ],
      "text/markdown": [
       "\n",
       "A tibble: 12 × 7\n",
       "\n",
       "| neighbors &lt;dbl&gt; | .metric &lt;chr&gt; | .estimator &lt;chr&gt; | mean &lt;dbl&gt; | n &lt;int&gt; | std_err &lt;dbl&gt; | .config &lt;chr&gt; |\n",
       "|---|---|---|---|---|---|---|\n",
       "|  1 | accuracy | multiclass | 0.9333333 | 5 | 0.016666667 | Preprocessor1_Model1 |\n",
       "|  1 | roc_auc  | hand_till  | 0.9500000 | 5 | 0.012500000 | Preprocessor1_Model1 |\n",
       "|  6 | accuracy | multiclass | 0.9333333 | 5 | 0.038640077 | Preprocessor1_Model2 |\n",
       "|  6 | roc_auc  | hand_till  | 0.9914062 | 5 | 0.006479091 | Preprocessor1_Model2 |\n",
       "| 11 | accuracy | multiclass | 0.9583333 | 5 | 0.013176157 | Preprocessor1_Model3 |\n",
       "| 11 | roc_auc  | hand_till  | 0.9937500 | 5 | 0.005049667 | Preprocessor1_Model3 |\n",
       "| 16 | accuracy | multiclass | 0.9333333 | 5 | 0.016666667 | Preprocessor1_Model4 |\n",
       "| 16 | roc_auc  | hand_till  | 0.9927083 | 5 | 0.007291667 | Preprocessor1_Model4 |\n",
       "| 21 | accuracy | multiclass | 0.9166667 | 5 | 0.022821773 | Preprocessor1_Model5 |\n",
       "| 21 | roc_auc  | hand_till  | 0.9893229 | 5 | 0.007881639 | Preprocessor1_Model5 |\n",
       "| 26 | accuracy | multiclass | 0.9250000 | 5 | 0.015590239 | Preprocessor1_Model6 |\n",
       "| 26 | roc_auc  | hand_till  | 0.9848958 | 5 | 0.008769510 | Preprocessor1_Model6 |\n",
       "\n"
      ],
      "text/plain": [
       "   neighbors .metric  .estimator mean      n std_err     .config             \n",
       "1   1        accuracy multiclass 0.9333333 5 0.016666667 Preprocessor1_Model1\n",
       "2   1        roc_auc  hand_till  0.9500000 5 0.012500000 Preprocessor1_Model1\n",
       "3   6        accuracy multiclass 0.9333333 5 0.038640077 Preprocessor1_Model2\n",
       "4   6        roc_auc  hand_till  0.9914062 5 0.006479091 Preprocessor1_Model2\n",
       "5  11        accuracy multiclass 0.9583333 5 0.013176157 Preprocessor1_Model3\n",
       "6  11        roc_auc  hand_till  0.9937500 5 0.005049667 Preprocessor1_Model3\n",
       "7  16        accuracy multiclass 0.9333333 5 0.016666667 Preprocessor1_Model4\n",
       "8  16        roc_auc  hand_till  0.9927083 5 0.007291667 Preprocessor1_Model4\n",
       "9  21        accuracy multiclass 0.9166667 5 0.022821773 Preprocessor1_Model5\n",
       "10 21        roc_auc  hand_till  0.9893229 5 0.007881639 Preprocessor1_Model5\n",
       "11 26        accuracy multiclass 0.9250000 5 0.015590239 Preprocessor1_Model6\n",
       "12 26        roc_auc  hand_till  0.9848958 5 0.008769510 Preprocessor1_Model6"
      ]
     },
     "metadata": {},
     "output_type": "display_data"
    }
   ],
   "source": [
    "set.seed(300)\n",
    "\n",
    "iris_results <- workflow()|>\n",
    "                add_recipe(iris_recipe)|>\n",
    "                add_model(knn_spec)|>\n",
    "                tune_grid(resamples = iris_vfold, grid = gridvals)|>\n",
    "                collect_metrics()\n",
    "iris_results"
   ]
  },
  {
   "cell_type": "code",
   "execution_count": 12,
   "id": "55f24a6b-e5d7-4be4-9ec9-1c76ffd87438",
   "metadata": {},
   "outputs": [],
   "source": [
    "#description"
   ]
  },
  {
   "cell_type": "markdown",
   "id": "bba7abe7-846c-4dc7-ad21-c0b7cc444770",
   "metadata": {},
   "source": [
    "#### Predict The Accuracy"
   ]
  },
  {
   "cell_type": "markdown",
   "id": "7ed33b9f-ee62-4823-9c4b-9d72fb2a5dab",
   "metadata": {},
   "source": [
    "Below we predict the accuracy of our result. Firstly, we will filter our the observations from iris_results where .metric accuracy."
   ]
  },
  {
   "cell_type": "code",
   "execution_count": 13,
   "id": "c2483212-e8d2-4407-837a-d2d257d7d9b2",
   "metadata": {},
   "outputs": [
    {
     "data": {
      "text/html": [
       "<table class=\"dataframe\">\n",
       "<caption>A tibble: 6 × 7</caption>\n",
       "<thead>\n",
       "\t<tr><th scope=col>neighbors</th><th scope=col>.metric</th><th scope=col>.estimator</th><th scope=col>mean</th><th scope=col>n</th><th scope=col>std_err</th><th scope=col>.config</th></tr>\n",
       "\t<tr><th scope=col>&lt;dbl&gt;</th><th scope=col>&lt;chr&gt;</th><th scope=col>&lt;chr&gt;</th><th scope=col>&lt;dbl&gt;</th><th scope=col>&lt;int&gt;</th><th scope=col>&lt;dbl&gt;</th><th scope=col>&lt;chr&gt;</th></tr>\n",
       "</thead>\n",
       "<tbody>\n",
       "\t<tr><td> 1</td><td>accuracy</td><td>multiclass</td><td>0.9333333</td><td>5</td><td>0.01666667</td><td>Preprocessor1_Model1</td></tr>\n",
       "\t<tr><td> 6</td><td>accuracy</td><td>multiclass</td><td>0.9333333</td><td>5</td><td>0.03864008</td><td>Preprocessor1_Model2</td></tr>\n",
       "\t<tr><td>11</td><td>accuracy</td><td>multiclass</td><td>0.9583333</td><td>5</td><td>0.01317616</td><td>Preprocessor1_Model3</td></tr>\n",
       "\t<tr><td>16</td><td>accuracy</td><td>multiclass</td><td>0.9333333</td><td>5</td><td>0.01666667</td><td>Preprocessor1_Model4</td></tr>\n",
       "\t<tr><td>21</td><td>accuracy</td><td>multiclass</td><td>0.9166667</td><td>5</td><td>0.02282177</td><td>Preprocessor1_Model5</td></tr>\n",
       "\t<tr><td>26</td><td>accuracy</td><td>multiclass</td><td>0.9250000</td><td>5</td><td>0.01559024</td><td>Preprocessor1_Model6</td></tr>\n",
       "</tbody>\n",
       "</table>\n"
      ],
      "text/latex": [
       "A tibble: 6 × 7\n",
       "\\begin{tabular}{lllllll}\n",
       " neighbors & .metric & .estimator & mean & n & std\\_err & .config\\\\\n",
       " <dbl> & <chr> & <chr> & <dbl> & <int> & <dbl> & <chr>\\\\\n",
       "\\hline\n",
       "\t  1 & accuracy & multiclass & 0.9333333 & 5 & 0.01666667 & Preprocessor1\\_Model1\\\\\n",
       "\t  6 & accuracy & multiclass & 0.9333333 & 5 & 0.03864008 & Preprocessor1\\_Model2\\\\\n",
       "\t 11 & accuracy & multiclass & 0.9583333 & 5 & 0.01317616 & Preprocessor1\\_Model3\\\\\n",
       "\t 16 & accuracy & multiclass & 0.9333333 & 5 & 0.01666667 & Preprocessor1\\_Model4\\\\\n",
       "\t 21 & accuracy & multiclass & 0.9166667 & 5 & 0.02282177 & Preprocessor1\\_Model5\\\\\n",
       "\t 26 & accuracy & multiclass & 0.9250000 & 5 & 0.01559024 & Preprocessor1\\_Model6\\\\\n",
       "\\end{tabular}\n"
      ],
      "text/markdown": [
       "\n",
       "A tibble: 6 × 7\n",
       "\n",
       "| neighbors &lt;dbl&gt; | .metric &lt;chr&gt; | .estimator &lt;chr&gt; | mean &lt;dbl&gt; | n &lt;int&gt; | std_err &lt;dbl&gt; | .config &lt;chr&gt; |\n",
       "|---|---|---|---|---|---|---|\n",
       "|  1 | accuracy | multiclass | 0.9333333 | 5 | 0.01666667 | Preprocessor1_Model1 |\n",
       "|  6 | accuracy | multiclass | 0.9333333 | 5 | 0.03864008 | Preprocessor1_Model2 |\n",
       "| 11 | accuracy | multiclass | 0.9583333 | 5 | 0.01317616 | Preprocessor1_Model3 |\n",
       "| 16 | accuracy | multiclass | 0.9333333 | 5 | 0.01666667 | Preprocessor1_Model4 |\n",
       "| 21 | accuracy | multiclass | 0.9166667 | 5 | 0.02282177 | Preprocessor1_Model5 |\n",
       "| 26 | accuracy | multiclass | 0.9250000 | 5 | 0.01559024 | Preprocessor1_Model6 |\n",
       "\n"
      ],
      "text/plain": [
       "  neighbors .metric  .estimator mean      n std_err    .config             \n",
       "1  1        accuracy multiclass 0.9333333 5 0.01666667 Preprocessor1_Model1\n",
       "2  6        accuracy multiclass 0.9333333 5 0.03864008 Preprocessor1_Model2\n",
       "3 11        accuracy multiclass 0.9583333 5 0.01317616 Preprocessor1_Model3\n",
       "4 16        accuracy multiclass 0.9333333 5 0.01666667 Preprocessor1_Model4\n",
       "5 21        accuracy multiclass 0.9166667 5 0.02282177 Preprocessor1_Model5\n",
       "6 26        accuracy multiclass 0.9250000 5 0.01559024 Preprocessor1_Model6"
      ]
     },
     "metadata": {},
     "output_type": "display_data"
    }
   ],
   "source": [
    "accuracies <- iris_results |>\n",
    "              filter(.metric == \"accuracy\")\n",
    "accuracies"
   ]
  },
  {
   "cell_type": "markdown",
   "id": "6516d4ac-588e-4125-9983-25d1d212dc42",
   "metadata": {},
   "source": [
    "We can decide which number of neighbors is best by plotting the accuracy versus K, as shown in Figure 3."
   ]
  },
  {
   "cell_type": "code",
   "execution_count": 14,
   "id": "70789de2-7527-4aac-b5ed-d0bf7b75d929",
   "metadata": {},
   "outputs": [
    {
     "data": {
      "image/png": "[encoded data removed]",
      "text/plain": [
       "plot without title"
      ]
     },
     "metadata": {
      "image/png": {
       "height": 600,
       "width": 1200
      }
     },
     "output_type": "display_data"
    }
   ],
   "source": [
    "options(repr.plot.width = 20, repr.plot.height = 10)\n",
    "\n",
    "iris_val_plot <- accuracies |>\n",
    "                 ggplot(aes(x = neighbors,y=mean)) +\n",
    "                 geom_line() +\n",
    "                 geom_point() +\n",
    "                 labs(x = \"Neighbors\", y = \"Accuracy Estimate\") +\n",
    "                 ggtitle(\"Fig.3: Plot of Estimated Accuracy versus The Number Of Neighbors\") +\n",
    "                 theme(text = element_text(size = 20))\n",
    "iris_val_plot"
   ]
  },
  {
   "cell_type": "markdown",
   "id": "8dfb8c3d-3672-4a0d-b90a-463f577068e4",
   "metadata": {},
   "source": [
    "According to the graph above, there is no exact or perfect answer, but we choose 10 as the value of K because:\n",
    "1. We get roughly optimal accuracy.\n",
    "2. Changing the value to a nearby one doesn’t change accuracy too much, so that our choice is reliable in the presence of uncertainty.\n",
    "3. K = 10 does not create a prohibitively expensive computational cost of training."
   ]
  },
  {
   "cell_type": "markdown",
   "id": "a59cfa77-ee91-4e9b-b360-e2fd90255888",
   "metadata": {},
   "source": [
    "Now we will perform our knn classification, using the value of K = 10."
   ]
  },
  {
   "cell_type": "code",
   "execution_count": 15,
   "id": "21265ad7-67e6-4b88-b83c-58e37e71d1af",
   "metadata": {},
   "outputs": [
    {
     "data": {
      "text/plain": [
       "K-Nearest Neighbor Model Specification (classification)\n",
       "\n",
       "Main Arguments:\n",
       "  neighbors = 10\n",
       "  weight_func = rectangular\n",
       "\n",
       "Computational engine: kknn \n"
      ]
     },
     "metadata": {},
     "output_type": "display_data"
    },
    {
     "data": {
      "text/plain": [
       "══ Workflow [trained] ══════════════════════════════════════════════════════════\n",
       "\u001b[3mPreprocessor:\u001b[23m Recipe\n",
       "\u001b[3mModel:\u001b[23m nearest_neighbor()\n",
       "\n",
       "── Preprocessor ────────────────────────────────────────────────────────────────\n",
       "2 Recipe Steps\n",
       "\n",
       "• step_scale()\n",
       "• step_center()\n",
       "\n",
       "── Model ───────────────────────────────────────────────────────────────────────\n",
       "\n",
       "Call:\n",
       "kknn::train.kknn(formula = ..y ~ ., data = data, ks = min_rows(10,     data, 5), kernel = ~\"rectangular\")\n",
       "\n",
       "Type of response variable: nominal\n",
       "Minimal misclassification: 0.03333333\n",
       "Best kernel: rectangular\n",
       "Best k: 10"
      ]
     },
     "metadata": {},
     "output_type": "display_data"
    }
   ],
   "source": [
    "knn_best_spec <- nearest_neighbor(weight_func = \"rectangular\", neighbors = 10) |>\n",
    "                 set_engine(\"kknn\")|>\n",
    "                 set_mode(\"classification\")\n",
    "\n",
    "iris_fit <- workflow() |>\n",
    "            add_recipe(iris_recipe)|>\n",
    "            add_model(knn_best_spec)|>\n",
    "            fit(data=iris_train)\n",
    "knn_best_spec\n",
    "iris_fit"
   ]
  },
  {
   "cell_type": "code",
   "execution_count": null,
   "id": "87a00c70-aaa2-4e3b-98f7-68639461aee8",
   "metadata": {},
   "outputs": [],
   "source": []
  },
  {
   "cell_type": "code",
   "execution_count": 16,
   "id": "4459844d-2255-48b1-915e-73e17c9dd406",
   "metadata": {},
   "outputs": [
    {
     "data": {
      "text/html": [
       "<table class=\"dataframe\">\n",
       "<caption>A tibble: 30 × 6</caption>\n",
       "<thead>\n",
       "\t<tr><th scope=col>.pred_class</th><th scope=col>SepalLengthCm</th><th scope=col>SepalWidthCm</th><th scope=col>PetalLengthCm</th><th scope=col>PetalWidthCm</th><th scope=col>Species</th></tr>\n",
       "\t<tr><th scope=col>&lt;fct&gt;</th><th scope=col>&lt;dbl&gt;</th><th scope=col>&lt;dbl&gt;</th><th scope=col>&lt;dbl&gt;</th><th scope=col>&lt;dbl&gt;</th><th scope=col>&lt;fct&gt;</th></tr>\n",
       "</thead>\n",
       "<tbody>\n",
       "\t<tr><td>Iris-setosa    </td><td>4.9</td><td>3.0</td><td>1.4</td><td>0.2</td><td>Iris-setosa    </td></tr>\n",
       "\t<tr><td>Iris-setosa    </td><td>4.4</td><td>2.9</td><td>1.4</td><td>0.2</td><td>Iris-setosa    </td></tr>\n",
       "\t<tr><td>Iris-setosa    </td><td>4.9</td><td>3.1</td><td>1.5</td><td>0.1</td><td>Iris-setosa    </td></tr>\n",
       "\t<tr><td>Iris-setosa    </td><td>4.8</td><td>3.4</td><td>1.6</td><td>0.2</td><td>Iris-setosa    </td></tr>\n",
       "\t<tr><td>Iris-setosa    </td><td>4.8</td><td>3.0</td><td>1.4</td><td>0.1</td><td>Iris-setosa    </td></tr>\n",
       "\t<tr><td>Iris-setosa    </td><td>5.7</td><td>4.4</td><td>1.5</td><td>0.4</td><td>Iris-setosa    </td></tr>\n",
       "\t<tr><td>Iris-setosa    </td><td>5.4</td><td>3.4</td><td>1.7</td><td>0.2</td><td>Iris-setosa    </td></tr>\n",
       "\t<tr><td>Iris-setosa    </td><td>4.8</td><td>3.4</td><td>1.9</td><td>0.2</td><td>Iris-setosa    </td></tr>\n",
       "\t<tr><td>Iris-setosa    </td><td>5.4</td><td>3.4</td><td>1.5</td><td>0.4</td><td>Iris-setosa    </td></tr>\n",
       "\t<tr><td>Iris-setosa    </td><td>4.4</td><td>3.0</td><td>1.3</td><td>0.2</td><td>Iris-setosa    </td></tr>\n",
       "\t<tr><td>Iris-versicolor</td><td>6.4</td><td>3.2</td><td>4.5</td><td>1.5</td><td>Iris-versicolor</td></tr>\n",
       "\t<tr><td>Iris-versicolor</td><td>6.6</td><td>2.9</td><td>4.6</td><td>1.3</td><td>Iris-versicolor</td></tr>\n",
       "\t<tr><td>Iris-versicolor</td><td>5.9</td><td>3.0</td><td>4.2</td><td>1.5</td><td>Iris-versicolor</td></tr>\n",
       "\t<tr><td>Iris-versicolor</td><td>5.6</td><td>3.0</td><td>4.5</td><td>1.5</td><td>Iris-versicolor</td></tr>\n",
       "\t<tr><td>Iris-versicolor</td><td>6.4</td><td>2.9</td><td>4.3</td><td>1.3</td><td>Iris-versicolor</td></tr>\n",
       "\t<tr><td>Iris-versicolor</td><td>6.8</td><td>2.8</td><td>4.8</td><td>1.4</td><td>Iris-versicolor</td></tr>\n",
       "\t<tr><td>Iris-versicolor</td><td>6.1</td><td>3.0</td><td>4.6</td><td>1.4</td><td>Iris-versicolor</td></tr>\n",
       "\t<tr><td>Iris-versicolor</td><td>5.8</td><td>2.6</td><td>4.0</td><td>1.2</td><td>Iris-versicolor</td></tr>\n",
       "\t<tr><td>Iris-versicolor</td><td>6.2</td><td>2.9</td><td>4.3</td><td>1.3</td><td>Iris-versicolor</td></tr>\n",
       "\t<tr><td>Iris-versicolor</td><td>5.1</td><td>2.5</td><td>3.0</td><td>1.1</td><td>Iris-versicolor</td></tr>\n",
       "\t<tr><td>Iris-virginica </td><td>6.3</td><td>3.3</td><td>6.0</td><td>2.5</td><td>Iris-virginica </td></tr>\n",
       "\t<tr><td>Iris-virginica </td><td>7.7</td><td>3.8</td><td>6.7</td><td>2.2</td><td>Iris-virginica </td></tr>\n",
       "\t<tr><td>Iris-versicolor</td><td>6.0</td><td>2.2</td><td>5.0</td><td>1.5</td><td>Iris-virginica </td></tr>\n",
       "\t<tr><td>Iris-virginica </td><td>5.6</td><td>2.8</td><td>4.9</td><td>2.0</td><td>Iris-virginica </td></tr>\n",
       "\t<tr><td>Iris-virginica </td><td>6.7</td><td>3.3</td><td>5.7</td><td>2.1</td><td>Iris-virginica </td></tr>\n",
       "\t<tr><td>Iris-virginica </td><td>6.1</td><td>3.0</td><td>4.9</td><td>1.8</td><td>Iris-virginica </td></tr>\n",
       "\t<tr><td>Iris-virginica </td><td>6.7</td><td>3.1</td><td>5.6</td><td>2.4</td><td>Iris-virginica </td></tr>\n",
       "\t<tr><td>Iris-virginica </td><td>6.8</td><td>3.2</td><td>5.9</td><td>2.3</td><td>Iris-virginica </td></tr>\n",
       "\t<tr><td>Iris-virginica </td><td>6.7</td><td>3.0</td><td>5.2</td><td>2.3</td><td>Iris-virginica </td></tr>\n",
       "\t<tr><td>Iris-virginica </td><td>5.9</td><td>3.0</td><td>5.1</td><td>1.8</td><td>Iris-virginica </td></tr>\n",
       "</tbody>\n",
       "</table>\n"
      ],
      "text/latex": [
       "A tibble: 30 × 6\n",
       "\\begin{tabular}{llllll}\n",
       " .pred\\_class & SepalLengthCm & SepalWidthCm & PetalLengthCm & PetalWidthCm & Species\\\\\n",
       " <fct> & <dbl> & <dbl> & <dbl> & <dbl> & <fct>\\\\\n",
       "\\hline\n",
       "\t Iris-setosa     & 4.9 & 3.0 & 1.4 & 0.2 & Iris-setosa    \\\\\n",
       "\t Iris-setosa     & 4.4 & 2.9 & 1.4 & 0.2 & Iris-setosa    \\\\\n",
       "\t Iris-setosa     & 4.9 & 3.1 & 1.5 & 0.1 & Iris-setosa    \\\\\n",
       "\t Iris-setosa     & 4.8 & 3.4 & 1.6 & 0.2 & Iris-setosa    \\\\\n",
       "\t Iris-setosa     & 4.8 & 3.0 & 1.4 & 0.1 & Iris-setosa    \\\\\n",
       "\t Iris-setosa     & 5.7 & 4.4 & 1.5 & 0.4 & Iris-setosa    \\\\\n",
       "\t Iris-setosa     & 5.4 & 3.4 & 1.7 & 0.2 & Iris-setosa    \\\\\n",
       "\t Iris-setosa     & 4.8 & 3.4 & 1.9 & 0.2 & Iris-setosa    \\\\\n",
       "\t Iris-setosa     & 5.4 & 3.4 & 1.5 & 0.4 & Iris-setosa    \\\\\n",
       "\t Iris-setosa     & 4.4 & 3.0 & 1.3 & 0.2 & Iris-setosa    \\\\\n",
       "\t Iris-versicolor & 6.4 & 3.2 & 4.5 & 1.5 & Iris-versicolor\\\\\n",
       "\t Iris-versicolor & 6.6 & 2.9 & 4.6 & 1.3 & Iris-versicolor\\\\\n",
       "\t Iris-versicolor & 5.9 & 3.0 & 4.2 & 1.5 & Iris-versicolor\\\\\n",
       "\t Iris-versicolor & 5.6 & 3.0 & 4.5 & 1.5 & Iris-versicolor\\\\\n",
       "\t Iris-versicolor & 6.4 & 2.9 & 4.3 & 1.3 & Iris-versicolor\\\\\n",
       "\t Iris-versicolor & 6.8 & 2.8 & 4.8 & 1.4 & Iris-versicolor\\\\\n",
       "\t Iris-versicolor & 6.1 & 3.0 & 4.6 & 1.4 & Iris-versicolor\\\\\n",
       "\t Iris-versicolor & 5.8 & 2.6 & 4.0 & 1.2 & Iris-versicolor\\\\\n",
       "\t Iris-versicolor & 6.2 & 2.9 & 4.3 & 1.3 & Iris-versicolor\\\\\n",
       "\t Iris-versicolor & 5.1 & 2.5 & 3.0 & 1.1 & Iris-versicolor\\\\\n",
       "\t Iris-virginica  & 6.3 & 3.3 & 6.0 & 2.5 & Iris-virginica \\\\\n",
       "\t Iris-virginica  & 7.7 & 3.8 & 6.7 & 2.2 & Iris-virginica \\\\\n",
       "\t Iris-versicolor & 6.0 & 2.2 & 5.0 & 1.5 & Iris-virginica \\\\\n",
       "\t Iris-virginica  & 5.6 & 2.8 & 4.9 & 2.0 & Iris-virginica \\\\\n",
       "\t Iris-virginica  & 6.7 & 3.3 & 5.7 & 2.1 & Iris-virginica \\\\\n",
       "\t Iris-virginica  & 6.1 & 3.0 & 4.9 & 1.8 & Iris-virginica \\\\\n",
       "\t Iris-virginica  & 6.7 & 3.1 & 5.6 & 2.4 & Iris-virginica \\\\\n",
       "\t Iris-virginica  & 6.8 & 3.2 & 5.9 & 2.3 & Iris-virginica \\\\\n",
       "\t Iris-virginica  & 6.7 & 3.0 & 5.2 & 2.3 & Iris-virginica \\\\\n",
       "\t Iris-virginica  & 5.9 & 3.0 & 5.1 & 1.8 & Iris-virginica \\\\\n",
       "\\end{tabular}\n"
      ],
      "text/markdown": [
       "\n",
       "A tibble: 30 × 6\n",
       "\n",
       "| .pred_class &lt;fct&gt; | SepalLengthCm &lt;dbl&gt; | SepalWidthCm &lt;dbl&gt; | PetalLengthCm &lt;dbl&gt; | PetalWidthCm &lt;dbl&gt; | Species &lt;fct&gt; |\n",
       "|---|---|---|---|---|---|\n",
       "| Iris-setosa     | 4.9 | 3.0 | 1.4 | 0.2 | Iris-setosa     |\n",
       "| Iris-setosa     | 4.4 | 2.9 | 1.4 | 0.2 | Iris-setosa     |\n",
       "| Iris-setosa     | 4.9 | 3.1 | 1.5 | 0.1 | Iris-setosa     |\n",
       "| Iris-setosa     | 4.8 | 3.4 | 1.6 | 0.2 | Iris-setosa     |\n",
       "| Iris-setosa     | 4.8 | 3.0 | 1.4 | 0.1 | Iris-setosa     |\n",
       "| Iris-setosa     | 5.7 | 4.4 | 1.5 | 0.4 | Iris-setosa     |\n",
       "| Iris-setosa     | 5.4 | 3.4 | 1.7 | 0.2 | Iris-setosa     |\n",
       "| Iris-setosa     | 4.8 | 3.4 | 1.9 | 0.2 | Iris-setosa     |\n",
       "| Iris-setosa     | 5.4 | 3.4 | 1.5 | 0.4 | Iris-setosa     |\n",
       "| Iris-setosa     | 4.4 | 3.0 | 1.3 | 0.2 | Iris-setosa     |\n",
       "| Iris-versicolor | 6.4 | 3.2 | 4.5 | 1.5 | Iris-versicolor |\n",
       "| Iris-versicolor | 6.6 | 2.9 | 4.6 | 1.3 | Iris-versicolor |\n",
       "| Iris-versicolor | 5.9 | 3.0 | 4.2 | 1.5 | Iris-versicolor |\n",
       "| Iris-versicolor | 5.6 | 3.0 | 4.5 | 1.5 | Iris-versicolor |\n",
       "| Iris-versicolor | 6.4 | 2.9 | 4.3 | 1.3 | Iris-versicolor |\n",
       "| Iris-versicolor | 6.8 | 2.8 | 4.8 | 1.4 | Iris-versicolor |\n",
       "| Iris-versicolor | 6.1 | 3.0 | 4.6 | 1.4 | Iris-versicolor |\n",
       "| Iris-versicolor | 5.8 | 2.6 | 4.0 | 1.2 | Iris-versicolor |\n",
       "| Iris-versicolor | 6.2 | 2.9 | 4.3 | 1.3 | Iris-versicolor |\n",
       "| Iris-versicolor | 5.1 | 2.5 | 3.0 | 1.1 | Iris-versicolor |\n",
       "| Iris-virginica  | 6.3 | 3.3 | 6.0 | 2.5 | Iris-virginica  |\n",
       "| Iris-virginica  | 7.7 | 3.8 | 6.7 | 2.2 | Iris-virginica  |\n",
       "| Iris-versicolor | 6.0 | 2.2 | 5.0 | 1.5 | Iris-virginica  |\n",
       "| Iris-virginica  | 5.6 | 2.8 | 4.9 | 2.0 | Iris-virginica  |\n",
       "| Iris-virginica  | 6.7 | 3.3 | 5.7 | 2.1 | Iris-virginica  |\n",
       "| Iris-virginica  | 6.1 | 3.0 | 4.9 | 1.8 | Iris-virginica  |\n",
       "| Iris-virginica  | 6.7 | 3.1 | 5.6 | 2.4 | Iris-virginica  |\n",
       "| Iris-virginica  | 6.8 | 3.2 | 5.9 | 2.3 | Iris-virginica  |\n",
       "| Iris-virginica  | 6.7 | 3.0 | 5.2 | 2.3 | Iris-virginica  |\n",
       "| Iris-virginica  | 5.9 | 3.0 | 5.1 | 1.8 | Iris-virginica  |\n",
       "\n"
      ],
      "text/plain": [
       "   .pred_class     SepalLengthCm SepalWidthCm PetalLengthCm PetalWidthCm\n",
       "1  Iris-setosa     4.9           3.0          1.4           0.2         \n",
       "2  Iris-setosa     4.4           2.9          1.4           0.2         \n",
       "3  Iris-setosa     4.9           3.1          1.5           0.1         \n",
       "4  Iris-setosa     4.8           3.4          1.6           0.2         \n",
       "5  Iris-setosa     4.8           3.0          1.4           0.1         \n",
       "6  Iris-setosa     5.7           4.4          1.5           0.4         \n",
       "7  Iris-setosa     5.4           3.4          1.7           0.2         \n",
       "8  Iris-setosa     4.8           3.4          1.9           0.2         \n",
       "9  Iris-setosa     5.4           3.4          1.5           0.4         \n",
       "10 Iris-setosa     4.4           3.0          1.3           0.2         \n",
       "11 Iris-versicolor 6.4           3.2          4.5           1.5         \n",
       "12 Iris-versicolor 6.6           2.9          4.6           1.3         \n",
       "13 Iris-versicolor 5.9           3.0          4.2           1.5         \n",
       "14 Iris-versicolor 5.6           3.0          4.5           1.5         \n",
       "15 Iris-versicolor 6.4           2.9          4.3           1.3         \n",
       "16 Iris-versicolor 6.8           2.8          4.8           1.4         \n",
       "17 Iris-versicolor 6.1           3.0          4.6           1.4         \n",
       "18 Iris-versicolor 5.8           2.6          4.0           1.2         \n",
       "19 Iris-versicolor 6.2           2.9          4.3           1.3         \n",
       "20 Iris-versicolor 5.1           2.5          3.0           1.1         \n",
       "21 Iris-virginica  6.3           3.3          6.0           2.5         \n",
       "22 Iris-virginica  7.7           3.8          6.7           2.2         \n",
       "23 Iris-versicolor 6.0           2.2          5.0           1.5         \n",
       "24 Iris-virginica  5.6           2.8          4.9           2.0         \n",
       "25 Iris-virginica  6.7           3.3          5.7           2.1         \n",
       "26 Iris-virginica  6.1           3.0          4.9           1.8         \n",
       "27 Iris-virginica  6.7           3.1          5.6           2.4         \n",
       "28 Iris-virginica  6.8           3.2          5.9           2.3         \n",
       "29 Iris-virginica  6.7           3.0          5.2           2.3         \n",
       "30 Iris-virginica  5.9           3.0          5.1           1.8         \n",
       "   Species        \n",
       "1  Iris-setosa    \n",
       "2  Iris-setosa    \n",
       "3  Iris-setosa    \n",
       "4  Iris-setosa    \n",
       "5  Iris-setosa    \n",
       "6  Iris-setosa    \n",
       "7  Iris-setosa    \n",
       "8  Iris-setosa    \n",
       "9  Iris-setosa    \n",
       "10 Iris-setosa    \n",
       "11 Iris-versicolor\n",
       "12 Iris-versicolor\n",
       "13 Iris-versicolor\n",
       "14 Iris-versicolor\n",
       "15 Iris-versicolor\n",
       "16 Iris-versicolor\n",
       "17 Iris-versicolor\n",
       "18 Iris-versicolor\n",
       "19 Iris-versicolor\n",
       "20 Iris-versicolor\n",
       "21 Iris-virginica \n",
       "22 Iris-virginica \n",
       "23 Iris-virginica \n",
       "24 Iris-virginica \n",
       "25 Iris-virginica \n",
       "26 Iris-virginica \n",
       "27 Iris-virginica \n",
       "28 Iris-virginica \n",
       "29 Iris-virginica \n",
       "30 Iris-virginica "
      ]
     },
     "metadata": {},
     "output_type": "display_data"
    }
   ],
   "source": [
    "iris_predictions <- predict(iris_fit,iris_test) |>\n",
    "                    bind_cols(iris_test)\n",
    "iris_predictions"
   ]
  },
  {
   "cell_type": "code",
   "execution_count": null,
   "id": "e9756c24-24b3-4e14-8cd3-513113fa4f05",
   "metadata": {},
   "outputs": [],
   "source": []
  },
  {
   "cell_type": "code",
   "execution_count": 17,
   "id": "913bbd44-20cd-4476-b8ee-bff4061e8abc",
   "metadata": {},
   "outputs": [
    {
     "data": {
      "text/html": [
       "<table class=\"dataframe\">\n",
       "<caption>A tibble: 1 × 2</caption>\n",
       "<thead>\n",
       "\t<tr><th scope=col>.metric</th><th scope=col>.estimate</th></tr>\n",
       "\t<tr><th scope=col>&lt;chr&gt;</th><th scope=col>&lt;dbl&gt;</th></tr>\n",
       "</thead>\n",
       "<tbody>\n",
       "\t<tr><td>accuracy</td><td>0.9666667</td></tr>\n",
       "</tbody>\n",
       "</table>\n"
      ],
      "text/latex": [
       "A tibble: 1 × 2\n",
       "\\begin{tabular}{ll}\n",
       " .metric & .estimate\\\\\n",
       " <chr> & <dbl>\\\\\n",
       "\\hline\n",
       "\t accuracy & 0.9666667\\\\\n",
       "\\end{tabular}\n"
      ],
      "text/markdown": [
       "\n",
       "A tibble: 1 × 2\n",
       "\n",
       "| .metric &lt;chr&gt; | .estimate &lt;dbl&gt; |\n",
       "|---|---|\n",
       "| accuracy | 0.9666667 |\n",
       "\n"
      ],
      "text/plain": [
       "  .metric  .estimate\n",
       "1 accuracy 0.9666667"
      ]
     },
     "metadata": {},
     "output_type": "display_data"
    }
   ],
   "source": [
    "iris_accuracy<-iris_predictions|>\n",
    "metrics(truth= Species,estimate=.pred_class)|>\n",
    "select(.metric,.estimate)|>\n",
    "head(1)\n",
    "iris_accuracy"
   ]
  },
  {
   "cell_type": "code",
   "execution_count": 18,
   "id": "88b77f8c-c3f2-4fa9-8d9d-beb805c38377",
   "metadata": {},
   "outputs": [
    {
     "data": {
      "text/plain": [
       "                 Truth\n",
       "Prediction        Iris-setosa Iris-versicolor Iris-virginica\n",
       "  Iris-setosa              10               0              0\n",
       "  Iris-versicolor           0              10              1\n",
       "  Iris-virginica            0               0              9"
      ]
     },
     "metadata": {},
     "output_type": "display_data"
    }
   ],
   "source": [
    "iris_cm <- iris_predictions |>\n",
    "           conf_mat(truth = Species,estimate=.pred_class)\n",
    "iris_cm"
   ]
  },
  {
   "cell_type": "markdown",
   "id": "9c68016f-f152-4606-829c-46e92df44dae",
   "metadata": {},
   "source": [
    "However, according to the visualizations of the dataset below, we find out that the species may have a stronger relationship to \"Petal\" part. Thus, we want to figure out the different accuracies by using only the \"Sepal\" part variables and the \"Petal\" part variables."
   ]
  },
  {
   "cell_type": "code",
   "execution_count": 19,
   "id": "6f5cff62-3e35-4a35-b5c1-60a655de7ab4",
   "metadata": {},
   "outputs": [],
   "source": [
    "#adding the visulaizations"
   ]
  },
  {
   "cell_type": "markdown",
   "id": "0f608bcc-d838-4765-bb5a-74b88c54dbeb",
   "metadata": {},
   "source": [
    "### Dataset Visualisation\n",
    "Now we will visualise our data using scatterplots.\n",
    "First, we will try to establish if there is a relationship among the dimensions of sepals of the three species using a scatterplot, naming the plot sepal_plot."
   ]
  },
  {
   "cell_type": "code",
   "execution_count": 20,
   "id": "2f0dea41-9a0e-4837-b8da-0cbbfd6ff9f2",
   "metadata": {},
   "outputs": [
    {
     "data": {
      "image/png": "[encoded data removed]",
      "text/plain": [
       "plot without title"
      ]
     },
     "metadata": {
      "image/png": {
       "height": 600,
       "width": 600
      }
     },
     "output_type": "display_data"
    }
   ],
   "source": [
    "options(repr.plot.width=10 , repr.plot.height= 10)\n",
    "\n",
    "sepal_plot <- iris_tidy |>\n",
    "              ggplot(aes(x = SepalLengthCm, y= SepalWidthCm, color=Species)) +\n",
    "              geom_point() +\n",
    "              ggtitle(\"Fig.1: Scatter plot of sepal length versus sepal width (in cm)\") +\n",
    "              labs(x = \"Sepal Length\", y = \"Sepal Width\") +\n",
    "              theme(text=element_text(size=20))\n",
    "sepal_plot"
   ]
  },
  {
   "cell_type": "markdown",
   "id": "b5e3433e-4deb-4986-ab5b-2ff8acd76bf5",
   "metadata": {},
   "source": [
    "In figure 1, the plot relates the dimensions of the sepals (length and width) of the three species of flower iris. We can conclude that there is a positive relationship between the sepal length and sepal width for all three species. But the relationship is weaker for Iris-versicolor and Iris-virginica than for Iris-setosa.\n",
    "\n",
    "We can also conclude that sepal dimensions are almost similar for Iris-versicolor and Iris-virginica."
   ]
  },
  {
   "cell_type": "markdown",
   "id": "b4985637-a4f0-4712-b7fb-150d7e17f12f",
   "metadata": {},
   "source": [
    "We will now repeat the same process for petals."
   ]
  },
  {
   "cell_type": "code",
   "execution_count": 21,
   "id": "b38da1a0-c611-4648-89b5-c20be1348394",
   "metadata": {},
   "outputs": [
    {
     "data": {
      "image/png": "[encoded data removed]",
      "text/plain": [
       "plot without title"
      ]
     },
     "metadata": {
      "image/png": {
       "height": 600,
       "width": 600
      }
     },
     "output_type": "display_data"
    }
   ],
   "source": [
    "options(repr.plot.width=10 , repr.plot.height= 10)\n",
    "\n",
    "petal_plot <- iris_tidy |>\n",
    "              ggplot(aes(x = PetalLengthCm, y = PetalWidthCm, color = Species)) +\n",
    "              geom_point() +\n",
    "              ggtitle(\"Fig.2: Scatter plot of petal length versus petal width (in cm)\") +\n",
    "              labs(x = \"Petal Length\", y = \"Petal Width\") +\n",
    "              theme(text=element_text(size=20))\n",
    "petal_plot"
   ]
  },
  {
   "cell_type": "markdown",
   "id": "b3a13753-747c-4c97-903e-d549acf2a93e",
   "metadata": {},
   "source": [
    "From figure 2, we establish a positive corelation between the petal dimensions. In addition, the dimensions are largest in Iris-virginia, then Iris-versicolor, and smallest in Iris-setosa."
   ]
  },
  {
   "cell_type": "markdown",
   "id": "431e6b36-f09a-4095-bad7-ca204a1077fc",
   "metadata": {},
   "source": [
    "##### We would like to split the data to \"Sepal\" and \"Petal\" into two different parts. "
   ]
  },
  {
   "cell_type": "markdown",
   "id": "ab659d6b-b77c-4480-9cad-cc1c37e0c45d",
   "metadata": {},
   "source": [
    "For the `Sepal` part, we will be repeating the process that we have done above for the whole dataset."
   ]
  },
  {
   "cell_type": "code",
   "execution_count": 22,
   "id": "d3423382-ba8d-4412-92d2-26375773d659",
   "metadata": {},
   "outputs": [
    {
     "data": {
      "image/png": "[encoded data removed]",
      "text/plain": [
       "plot without title"
      ]
     },
     "metadata": {
      "image/png": {
       "height": 600,
       "width": 600
      }
     },
     "output_type": "display_data"
    }
   ],
   "source": [
    "iris_sepal <- select(iris_tidy,SepalLengthCm,SepalWidthCm,Species)\n",
    "\n",
    "set.seed(200)\n",
    "iris_split_sepal <- initial_split(iris_sepal, prop = 0.8, strata = Species)\n",
    "iris_train_sepal <- training(iris_split_sepal)\n",
    "iris_test_sepal <- testing(iris_split_sepal)\n",
    "\n",
    "set.seed(300)\n",
    "iris_recipe_sepal <- recipe(Species ~., data = iris_train_sepal) |>\n",
    "                     step_scale(all_predictors()) |>\n",
    "                     step_center(all_predictors())\n",
    "\n",
    "iris_vfold_sepal <- vfold_cv(iris_train_sepal, v = 5, strata = Species)\n",
    "\n",
    "iris_results_sepal <- workflow() |>\n",
    "                      add_recipe(iris_recipe_sepal) |>\n",
    "                      add_model(knn_spec) |>\n",
    "                      tune_grid(resamples = iris_vfold_sepal, grid = gridvals) |>\n",
    "                      collect_metrics()\n",
    " \n",
    "accuracies_sepal <- iris_results_sepal |>\n",
    "                    filter(.metric == \"accuracy\")\n",
    "\n",
    "options(repr.plot.width = 10, repr.plot.height = 10)\n",
    "\n",
    "iris_val_plot_sepal <- accuracies_sepal |>\n",
    "                       ggplot(aes(x = neighbors, y = mean)) +\n",
    "                       geom_line() +\n",
    "                       geom_point() +\n",
    "                       labs(x = \"Neighbors\", y = \"Accuracy Estimate\") +\n",
    "                       theme(text = element_text(size = 20))\n",
    "iris_val_plot_sepal"
   ]
  },
  {
   "cell_type": "markdown",
   "id": "61df5721-d4bd-41e2-b250-0fc2dea3c840",
   "metadata": {},
   "source": [
    "According to the graph above, we choose 14 as the value of neighbors."
   ]
  },
  {
   "cell_type": "code",
   "execution_count": 23,
   "id": "7e2e4bb7-76a1-4be1-a45d-aa77ca0ee9d2",
   "metadata": {},
   "outputs": [
    {
     "data": {
      "text/html": [
       "<table class=\"dataframe\">\n",
       "<caption>A tibble: 30 × 4</caption>\n",
       "<thead>\n",
       "\t<tr><th scope=col>.pred_class</th><th scope=col>SepalLengthCm</th><th scope=col>SepalWidthCm</th><th scope=col>Species</th></tr>\n",
       "\t<tr><th scope=col>&lt;fct&gt;</th><th scope=col>&lt;dbl&gt;</th><th scope=col>&lt;dbl&gt;</th><th scope=col>&lt;fct&gt;</th></tr>\n",
       "</thead>\n",
       "<tbody>\n",
       "\t<tr><td>Iris-setosa    </td><td>4.9</td><td>3.0</td><td>Iris-setosa    </td></tr>\n",
       "\t<tr><td>Iris-setosa    </td><td>4.4</td><td>2.9</td><td>Iris-setosa    </td></tr>\n",
       "\t<tr><td>Iris-setosa    </td><td>4.9</td><td>3.1</td><td>Iris-setosa    </td></tr>\n",
       "\t<tr><td>Iris-setosa    </td><td>4.8</td><td>3.4</td><td>Iris-setosa    </td></tr>\n",
       "\t<tr><td>Iris-setosa    </td><td>4.8</td><td>3.0</td><td>Iris-setosa    </td></tr>\n",
       "\t<tr><td>Iris-setosa    </td><td>5.7</td><td>4.4</td><td>Iris-setosa    </td></tr>\n",
       "\t<tr><td>Iris-setosa    </td><td>5.4</td><td>3.4</td><td>Iris-setosa    </td></tr>\n",
       "\t<tr><td>Iris-setosa    </td><td>4.8</td><td>3.4</td><td>Iris-setosa    </td></tr>\n",
       "\t<tr><td>Iris-setosa    </td><td>5.4</td><td>3.4</td><td>Iris-setosa    </td></tr>\n",
       "\t<tr><td>Iris-setosa    </td><td>4.4</td><td>3.0</td><td>Iris-setosa    </td></tr>\n",
       "\t<tr><td>Iris-virginica </td><td>6.4</td><td>3.2</td><td>Iris-versicolor</td></tr>\n",
       "\t<tr><td>Iris-virginica </td><td>6.6</td><td>2.9</td><td>Iris-versicolor</td></tr>\n",
       "\t<tr><td>Iris-versicolor</td><td>5.9</td><td>3.0</td><td>Iris-versicolor</td></tr>\n",
       "\t<tr><td>Iris-versicolor</td><td>5.6</td><td>3.0</td><td>Iris-versicolor</td></tr>\n",
       "\t<tr><td>Iris-virginica </td><td>6.4</td><td>2.9</td><td>Iris-versicolor</td></tr>\n",
       "\t<tr><td>Iris-virginica </td><td>6.8</td><td>2.8</td><td>Iris-versicolor</td></tr>\n",
       "\t<tr><td>Iris-virginica </td><td>6.1</td><td>3.0</td><td>Iris-versicolor</td></tr>\n",
       "\t<tr><td>Iris-versicolor</td><td>5.8</td><td>2.6</td><td>Iris-versicolor</td></tr>\n",
       "\t<tr><td>Iris-virginica </td><td>6.2</td><td>2.9</td><td>Iris-versicolor</td></tr>\n",
       "\t<tr><td>Iris-versicolor</td><td>5.1</td><td>2.5</td><td>Iris-versicolor</td></tr>\n",
       "\t<tr><td>Iris-virginica </td><td>6.3</td><td>3.3</td><td>Iris-virginica </td></tr>\n",
       "\t<tr><td>Iris-virginica </td><td>7.7</td><td>3.8</td><td>Iris-virginica </td></tr>\n",
       "\t<tr><td>Iris-versicolor</td><td>6.0</td><td>2.2</td><td>Iris-virginica </td></tr>\n",
       "\t<tr><td>Iris-versicolor</td><td>5.6</td><td>2.8</td><td>Iris-virginica </td></tr>\n",
       "\t<tr><td>Iris-virginica </td><td>6.7</td><td>3.3</td><td>Iris-virginica </td></tr>\n",
       "\t<tr><td>Iris-virginica </td><td>6.1</td><td>3.0</td><td>Iris-virginica </td></tr>\n",
       "\t<tr><td>Iris-virginica </td><td>6.7</td><td>3.1</td><td>Iris-virginica </td></tr>\n",
       "\t<tr><td>Iris-virginica </td><td>6.8</td><td>3.2</td><td>Iris-virginica </td></tr>\n",
       "\t<tr><td>Iris-virginica </td><td>6.7</td><td>3.0</td><td>Iris-virginica </td></tr>\n",
       "\t<tr><td>Iris-versicolor</td><td>5.9</td><td>3.0</td><td>Iris-virginica </td></tr>\n",
       "</tbody>\n",
       "</table>\n"
      ],
      "text/latex": [
       "A tibble: 30 × 4\n",
       "\\begin{tabular}{llll}\n",
       " .pred\\_class & SepalLengthCm & SepalWidthCm & Species\\\\\n",
       " <fct> & <dbl> & <dbl> & <fct>\\\\\n",
       "\\hline\n",
       "\t Iris-setosa     & 4.9 & 3.0 & Iris-setosa    \\\\\n",
       "\t Iris-setosa     & 4.4 & 2.9 & Iris-setosa    \\\\\n",
       "\t Iris-setosa     & 4.9 & 3.1 & Iris-setosa    \\\\\n",
       "\t Iris-setosa     & 4.8 & 3.4 & Iris-setosa    \\\\\n",
       "\t Iris-setosa     & 4.8 & 3.0 & Iris-setosa    \\\\\n",
       "\t Iris-setosa     & 5.7 & 4.4 & Iris-setosa    \\\\\n",
       "\t Iris-setosa     & 5.4 & 3.4 & Iris-setosa    \\\\\n",
       "\t Iris-setosa     & 4.8 & 3.4 & Iris-setosa    \\\\\n",
       "\t Iris-setosa     & 5.4 & 3.4 & Iris-setosa    \\\\\n",
       "\t Iris-setosa     & 4.4 & 3.0 & Iris-setosa    \\\\\n",
       "\t Iris-virginica  & 6.4 & 3.2 & Iris-versicolor\\\\\n",
       "\t Iris-virginica  & 6.6 & 2.9 & Iris-versicolor\\\\\n",
       "\t Iris-versicolor & 5.9 & 3.0 & Iris-versicolor\\\\\n",
       "\t Iris-versicolor & 5.6 & 3.0 & Iris-versicolor\\\\\n",
       "\t Iris-virginica  & 6.4 & 2.9 & Iris-versicolor\\\\\n",
       "\t Iris-virginica  & 6.8 & 2.8 & Iris-versicolor\\\\\n",
       "\t Iris-virginica  & 6.1 & 3.0 & Iris-versicolor\\\\\n",
       "\t Iris-versicolor & 5.8 & 2.6 & Iris-versicolor\\\\\n",
       "\t Iris-virginica  & 6.2 & 2.9 & Iris-versicolor\\\\\n",
       "\t Iris-versicolor & 5.1 & 2.5 & Iris-versicolor\\\\\n",
       "\t Iris-virginica  & 6.3 & 3.3 & Iris-virginica \\\\\n",
       "\t Iris-virginica  & 7.7 & 3.8 & Iris-virginica \\\\\n",
       "\t Iris-versicolor & 6.0 & 2.2 & Iris-virginica \\\\\n",
       "\t Iris-versicolor & 5.6 & 2.8 & Iris-virginica \\\\\n",
       "\t Iris-virginica  & 6.7 & 3.3 & Iris-virginica \\\\\n",
       "\t Iris-virginica  & 6.1 & 3.0 & Iris-virginica \\\\\n",
       "\t Iris-virginica  & 6.7 & 3.1 & Iris-virginica \\\\\n",
       "\t Iris-virginica  & 6.8 & 3.2 & Iris-virginica \\\\\n",
       "\t Iris-virginica  & 6.7 & 3.0 & Iris-virginica \\\\\n",
       "\t Iris-versicolor & 5.9 & 3.0 & Iris-virginica \\\\\n",
       "\\end{tabular}\n"
      ],
      "text/markdown": [
       "\n",
       "A tibble: 30 × 4\n",
       "\n",
       "| .pred_class &lt;fct&gt; | SepalLengthCm &lt;dbl&gt; | SepalWidthCm &lt;dbl&gt; | Species &lt;fct&gt; |\n",
       "|---|---|---|---|\n",
       "| Iris-setosa     | 4.9 | 3.0 | Iris-setosa     |\n",
       "| Iris-setosa     | 4.4 | 2.9 | Iris-setosa     |\n",
       "| Iris-setosa     | 4.9 | 3.1 | Iris-setosa     |\n",
       "| Iris-setosa     | 4.8 | 3.4 | Iris-setosa     |\n",
       "| Iris-setosa     | 4.8 | 3.0 | Iris-setosa     |\n",
       "| Iris-setosa     | 5.7 | 4.4 | Iris-setosa     |\n",
       "| Iris-setosa     | 5.4 | 3.4 | Iris-setosa     |\n",
       "| Iris-setosa     | 4.8 | 3.4 | Iris-setosa     |\n",
       "| Iris-setosa     | 5.4 | 3.4 | Iris-setosa     |\n",
       "| Iris-setosa     | 4.4 | 3.0 | Iris-setosa     |\n",
       "| Iris-virginica  | 6.4 | 3.2 | Iris-versicolor |\n",
       "| Iris-virginica  | 6.6 | 2.9 | Iris-versicolor |\n",
       "| Iris-versicolor | 5.9 | 3.0 | Iris-versicolor |\n",
       "| Iris-versicolor | 5.6 | 3.0 | Iris-versicolor |\n",
       "| Iris-virginica  | 6.4 | 2.9 | Iris-versicolor |\n",
       "| Iris-virginica  | 6.8 | 2.8 | Iris-versicolor |\n",
       "| Iris-virginica  | 6.1 | 3.0 | Iris-versicolor |\n",
       "| Iris-versicolor | 5.8 | 2.6 | Iris-versicolor |\n",
       "| Iris-virginica  | 6.2 | 2.9 | Iris-versicolor |\n",
       "| Iris-versicolor | 5.1 | 2.5 | Iris-versicolor |\n",
       "| Iris-virginica  | 6.3 | 3.3 | Iris-virginica  |\n",
       "| Iris-virginica  | 7.7 | 3.8 | Iris-virginica  |\n",
       "| Iris-versicolor | 6.0 | 2.2 | Iris-virginica  |\n",
       "| Iris-versicolor | 5.6 | 2.8 | Iris-virginica  |\n",
       "| Iris-virginica  | 6.7 | 3.3 | Iris-virginica  |\n",
       "| Iris-virginica  | 6.1 | 3.0 | Iris-virginica  |\n",
       "| Iris-virginica  | 6.7 | 3.1 | Iris-virginica  |\n",
       "| Iris-virginica  | 6.8 | 3.2 | Iris-virginica  |\n",
       "| Iris-virginica  | 6.7 | 3.0 | Iris-virginica  |\n",
       "| Iris-versicolor | 5.9 | 3.0 | Iris-virginica  |\n",
       "\n"
      ],
      "text/plain": [
       "   .pred_class     SepalLengthCm SepalWidthCm Species        \n",
       "1  Iris-setosa     4.9           3.0          Iris-setosa    \n",
       "2  Iris-setosa     4.4           2.9          Iris-setosa    \n",
       "3  Iris-setosa     4.9           3.1          Iris-setosa    \n",
       "4  Iris-setosa     4.8           3.4          Iris-setosa    \n",
       "5  Iris-setosa     4.8           3.0          Iris-setosa    \n",
       "6  Iris-setosa     5.7           4.4          Iris-setosa    \n",
       "7  Iris-setosa     5.4           3.4          Iris-setosa    \n",
       "8  Iris-setosa     4.8           3.4          Iris-setosa    \n",
       "9  Iris-setosa     5.4           3.4          Iris-setosa    \n",
       "10 Iris-setosa     4.4           3.0          Iris-setosa    \n",
       "11 Iris-virginica  6.4           3.2          Iris-versicolor\n",
       "12 Iris-virginica  6.6           2.9          Iris-versicolor\n",
       "13 Iris-versicolor 5.9           3.0          Iris-versicolor\n",
       "14 Iris-versicolor 5.6           3.0          Iris-versicolor\n",
       "15 Iris-virginica  6.4           2.9          Iris-versicolor\n",
       "16 Iris-virginica  6.8           2.8          Iris-versicolor\n",
       "17 Iris-virginica  6.1           3.0          Iris-versicolor\n",
       "18 Iris-versicolor 5.8           2.6          Iris-versicolor\n",
       "19 Iris-virginica  6.2           2.9          Iris-versicolor\n",
       "20 Iris-versicolor 5.1           2.5          Iris-versicolor\n",
       "21 Iris-virginica  6.3           3.3          Iris-virginica \n",
       "22 Iris-virginica  7.7           3.8          Iris-virginica \n",
       "23 Iris-versicolor 6.0           2.2          Iris-virginica \n",
       "24 Iris-versicolor 5.6           2.8          Iris-virginica \n",
       "25 Iris-virginica  6.7           3.3          Iris-virginica \n",
       "26 Iris-virginica  6.1           3.0          Iris-virginica \n",
       "27 Iris-virginica  6.7           3.1          Iris-virginica \n",
       "28 Iris-virginica  6.8           3.2          Iris-virginica \n",
       "29 Iris-virginica  6.7           3.0          Iris-virginica \n",
       "30 Iris-versicolor 5.9           3.0          Iris-virginica "
      ]
     },
     "metadata": {},
     "output_type": "display_data"
    },
    {
     "data": {
      "text/html": [
       "<table class=\"dataframe\">\n",
       "<caption>A tibble: 1 × 2</caption>\n",
       "<thead>\n",
       "\t<tr><th scope=col>.metric</th><th scope=col>.estimate</th></tr>\n",
       "\t<tr><th scope=col>&lt;chr&gt;</th><th scope=col>&lt;dbl&gt;</th></tr>\n",
       "</thead>\n",
       "<tbody>\n",
       "\t<tr><td>accuracy</td><td>0.7</td></tr>\n",
       "</tbody>\n",
       "</table>\n"
      ],
      "text/latex": [
       "A tibble: 1 × 2\n",
       "\\begin{tabular}{ll}\n",
       " .metric & .estimate\\\\\n",
       " <chr> & <dbl>\\\\\n",
       "\\hline\n",
       "\t accuracy & 0.7\\\\\n",
       "\\end{tabular}\n"
      ],
      "text/markdown": [
       "\n",
       "A tibble: 1 × 2\n",
       "\n",
       "| .metric &lt;chr&gt; | .estimate &lt;dbl&gt; |\n",
       "|---|---|\n",
       "| accuracy | 0.7 |\n",
       "\n"
      ],
      "text/plain": [
       "  .metric  .estimate\n",
       "1 accuracy 0.7      "
      ]
     },
     "metadata": {},
     "output_type": "display_data"
    },
    {
     "data": {
      "text/plain": [
       "                 Truth\n",
       "Prediction        Iris-setosa Iris-versicolor Iris-virginica\n",
       "  Iris-setosa              10               0              0\n",
       "  Iris-versicolor           0               4              3\n",
       "  Iris-virginica            0               6              7"
      ]
     },
     "metadata": {},
     "output_type": "display_data"
    }
   ],
   "source": [
    "\n",
    "\n",
    "knn_best_spec_sepal <- nearest_neighbor(weight_func = \"rectangular\", neighbors = 14) |>\n",
    "                       set_engine(\"kknn\")|>\n",
    "                       set_mode(\"classification\")\n",
    "\n",
    "iris_fit_sepal <- workflow() |>\n",
    "                  add_recipe(iris_recipe_sepal) |>\n",
    "                  add_model(knn_best_spec_sepal) |>\n",
    "                  fit(data = iris_train_sepal)\n",
    "\n",
    "iris_predictions_sepal <- predict(iris_fit_sepal,iris_test_sepal) |>\n",
    "                          bind_cols(iris_test_sepal)\n",
    "iris_predictions_sepal\n",
    "\n",
    "iris_accuracy_sepal <- iris_predictions_sepal |>\n",
    "                       metrics(truth = Species, estimate = .pred_class) |>\n",
    "                       select(.metric,.estimate) |>\n",
    "                       head(1)\n",
    "iris_accuracy_sepal\n",
    "\n",
    "iris_cm_sepal <- iris_predictions_sepal |>\n",
    "                 conf_mat(truth = Species,estimate=.pred_class)\n",
    "iris_cm_sepal"
   ]
  },
  {
   "cell_type": "markdown",
   "id": "431015bf-92c6-47a2-b047-122f32ecaadd",
   "metadata": {},
   "source": [
    "For the `Petal` part, by repeating the process we have done above for the whole dataset."
   ]
  },
  {
   "cell_type": "code",
   "execution_count": 24,
   "id": "db80ba2f-1061-49bd-b517-7ab018ab8604",
   "metadata": {},
   "outputs": [
    {
     "data": {
      "image/png": "[encoded data removed]",
      "text/plain": [
       "plot without title"
      ]
     },
     "metadata": {
      "image/png": {
       "height": 600,
       "width": 600
      }
     },
     "output_type": "display_data"
    }
   ],
   "source": [
    "iris_petal <- select(iris_tidy,PetalLengthCm,PetalWidthCm,Species)\n",
    "\n",
    "set.seed(200)\n",
    "iris_split_petal <- initial_split(iris_petal, prop = 0.8, strata = Species)\n",
    "iris_train_petal <- training(iris_split_petal)\n",
    "iris_test_petal <- testing(iris_split_petal)\n",
    "\n",
    "set.seed(300)\n",
    "iris_recipe_petal <- recipe(Species ~., data = iris_train_petal) %>%\n",
    "                     step_scale(all_predictors()) %>%\n",
    "                     step_center(all_predictors())\n",
    "\n",
    "iris_vfold_petal <- vfold_cv(iris_train_petal, v = 5, strata = Species)\n",
    "\n",
    "iris_results_petal <- workflow() |>\n",
    "                      add_recipe(iris_recipe_petal) |>\n",
    "                      add_model(knn_spec) |>\n",
    "                      tune_grid(resamples = iris_vfold_petal, grid=gridvals) |>\n",
    "                      collect_metrics()\n",
    "\n",
    "accuracies_petal <- iris_results_petal |>\n",
    "                    filter(.metric == \"accuracy\")\n",
    "\n",
    "options(repr.plot.width = 10, repr.plot.height = 10)\n",
    "\n",
    "iris_val_plot_petal <- accuracies_petal |>\n",
    "                       ggplot(aes(x = neighbors, y = mean)) +\n",
    "                       geom_line() +\n",
    "                       geom_point() +\n",
    "                       labs(x = \"Neighbors\", y = \"Accuracy Estimate\") +\n",
    "                       theme(text = element_text(size = 20))\n",
    "iris_val_plot_petal"
   ]
  },
  {
   "cell_type": "markdown",
   "id": "a8d70492-c3ab-4caa-8213-af7089b9e419",
   "metadata": {},
   "source": [
    "We choose 15 as the value of k-neighbors."
   ]
  },
  {
   "cell_type": "code",
   "execution_count": 25,
   "id": "109471dc-46e1-4ad6-a3b1-af744a3abe07",
   "metadata": {},
   "outputs": [
    {
     "data": {
      "text/html": [
       "<table class=\"dataframe\">\n",
       "<caption>A tibble: 30 × 4</caption>\n",
       "<thead>\n",
       "\t<tr><th scope=col>.pred_class</th><th scope=col>PetalLengthCm</th><th scope=col>PetalWidthCm</th><th scope=col>Species</th></tr>\n",
       "\t<tr><th scope=col>&lt;fct&gt;</th><th scope=col>&lt;dbl&gt;</th><th scope=col>&lt;dbl&gt;</th><th scope=col>&lt;fct&gt;</th></tr>\n",
       "</thead>\n",
       "<tbody>\n",
       "\t<tr><td>Iris-setosa    </td><td>1.4</td><td>0.2</td><td>Iris-setosa    </td></tr>\n",
       "\t<tr><td>Iris-setosa    </td><td>1.4</td><td>0.2</td><td>Iris-setosa    </td></tr>\n",
       "\t<tr><td>Iris-setosa    </td><td>1.5</td><td>0.1</td><td>Iris-setosa    </td></tr>\n",
       "\t<tr><td>Iris-setosa    </td><td>1.6</td><td>0.2</td><td>Iris-setosa    </td></tr>\n",
       "\t<tr><td>Iris-setosa    </td><td>1.4</td><td>0.1</td><td>Iris-setosa    </td></tr>\n",
       "\t<tr><td>Iris-setosa    </td><td>1.5</td><td>0.4</td><td>Iris-setosa    </td></tr>\n",
       "\t<tr><td>Iris-setosa    </td><td>1.7</td><td>0.2</td><td>Iris-setosa    </td></tr>\n",
       "\t<tr><td>Iris-setosa    </td><td>1.9</td><td>0.2</td><td>Iris-setosa    </td></tr>\n",
       "\t<tr><td>Iris-setosa    </td><td>1.5</td><td>0.4</td><td>Iris-setosa    </td></tr>\n",
       "\t<tr><td>Iris-setosa    </td><td>1.3</td><td>0.2</td><td>Iris-setosa    </td></tr>\n",
       "\t<tr><td>Iris-versicolor</td><td>4.5</td><td>1.5</td><td>Iris-versicolor</td></tr>\n",
       "\t<tr><td>Iris-versicolor</td><td>4.6</td><td>1.3</td><td>Iris-versicolor</td></tr>\n",
       "\t<tr><td>Iris-versicolor</td><td>4.2</td><td>1.5</td><td>Iris-versicolor</td></tr>\n",
       "\t<tr><td>Iris-versicolor</td><td>4.5</td><td>1.5</td><td>Iris-versicolor</td></tr>\n",
       "\t<tr><td>Iris-versicolor</td><td>4.3</td><td>1.3</td><td>Iris-versicolor</td></tr>\n",
       "\t<tr><td>Iris-versicolor</td><td>4.8</td><td>1.4</td><td>Iris-versicolor</td></tr>\n",
       "\t<tr><td>Iris-versicolor</td><td>4.6</td><td>1.4</td><td>Iris-versicolor</td></tr>\n",
       "\t<tr><td>Iris-versicolor</td><td>4.0</td><td>1.2</td><td>Iris-versicolor</td></tr>\n",
       "\t<tr><td>Iris-versicolor</td><td>4.3</td><td>1.3</td><td>Iris-versicolor</td></tr>\n",
       "\t<tr><td>Iris-versicolor</td><td>3.0</td><td>1.1</td><td>Iris-versicolor</td></tr>\n",
       "\t<tr><td>Iris-virginica </td><td>6.0</td><td>2.5</td><td>Iris-virginica </td></tr>\n",
       "\t<tr><td>Iris-virginica </td><td>6.7</td><td>2.2</td><td>Iris-virginica </td></tr>\n",
       "\t<tr><td>Iris-versicolor</td><td>5.0</td><td>1.5</td><td>Iris-virginica </td></tr>\n",
       "\t<tr><td>Iris-virginica </td><td>4.9</td><td>2.0</td><td>Iris-virginica </td></tr>\n",
       "\t<tr><td>Iris-virginica </td><td>5.7</td><td>2.1</td><td>Iris-virginica </td></tr>\n",
       "\t<tr><td>Iris-virginica </td><td>4.9</td><td>1.8</td><td>Iris-virginica </td></tr>\n",
       "\t<tr><td>Iris-virginica </td><td>5.6</td><td>2.4</td><td>Iris-virginica </td></tr>\n",
       "\t<tr><td>Iris-virginica </td><td>5.9</td><td>2.3</td><td>Iris-virginica </td></tr>\n",
       "\t<tr><td>Iris-virginica </td><td>5.2</td><td>2.3</td><td>Iris-virginica </td></tr>\n",
       "\t<tr><td>Iris-virginica </td><td>5.1</td><td>1.8</td><td>Iris-virginica </td></tr>\n",
       "</tbody>\n",
       "</table>\n"
      ],
      "text/latex": [
       "A tibble: 30 × 4\n",
       "\\begin{tabular}{llll}\n",
       " .pred\\_class & PetalLengthCm & PetalWidthCm & Species\\\\\n",
       " <fct> & <dbl> & <dbl> & <fct>\\\\\n",
       "\\hline\n",
       "\t Iris-setosa     & 1.4 & 0.2 & Iris-setosa    \\\\\n",
       "\t Iris-setosa     & 1.4 & 0.2 & Iris-setosa    \\\\\n",
       "\t Iris-setosa     & 1.5 & 0.1 & Iris-setosa    \\\\\n",
       "\t Iris-setosa     & 1.6 & 0.2 & Iris-setosa    \\\\\n",
       "\t Iris-setosa     & 1.4 & 0.1 & Iris-setosa    \\\\\n",
       "\t Iris-setosa     & 1.5 & 0.4 & Iris-setosa    \\\\\n",
       "\t Iris-setosa     & 1.7 & 0.2 & Iris-setosa    \\\\\n",
       "\t Iris-setosa     & 1.9 & 0.2 & Iris-setosa    \\\\\n",
       "\t Iris-setosa     & 1.5 & 0.4 & Iris-setosa    \\\\\n",
       "\t Iris-setosa     & 1.3 & 0.2 & Iris-setosa    \\\\\n",
       "\t Iris-versicolor & 4.5 & 1.5 & Iris-versicolor\\\\\n",
       "\t Iris-versicolor & 4.6 & 1.3 & Iris-versicolor\\\\\n",
       "\t Iris-versicolor & 4.2 & 1.5 & Iris-versicolor\\\\\n",
       "\t Iris-versicolor & 4.5 & 1.5 & Iris-versicolor\\\\\n",
       "\t Iris-versicolor & 4.3 & 1.3 & Iris-versicolor\\\\\n",
       "\t Iris-versicolor & 4.8 & 1.4 & Iris-versicolor\\\\\n",
       "\t Iris-versicolor & 4.6 & 1.4 & Iris-versicolor\\\\\n",
       "\t Iris-versicolor & 4.0 & 1.2 & Iris-versicolor\\\\\n",
       "\t Iris-versicolor & 4.3 & 1.3 & Iris-versicolor\\\\\n",
       "\t Iris-versicolor & 3.0 & 1.1 & Iris-versicolor\\\\\n",
       "\t Iris-virginica  & 6.0 & 2.5 & Iris-virginica \\\\\n",
       "\t Iris-virginica  & 6.7 & 2.2 & Iris-virginica \\\\\n",
       "\t Iris-versicolor & 5.0 & 1.5 & Iris-virginica \\\\\n",
       "\t Iris-virginica  & 4.9 & 2.0 & Iris-virginica \\\\\n",
       "\t Iris-virginica  & 5.7 & 2.1 & Iris-virginica \\\\\n",
       "\t Iris-virginica  & 4.9 & 1.8 & Iris-virginica \\\\\n",
       "\t Iris-virginica  & 5.6 & 2.4 & Iris-virginica \\\\\n",
       "\t Iris-virginica  & 5.9 & 2.3 & Iris-virginica \\\\\n",
       "\t Iris-virginica  & 5.2 & 2.3 & Iris-virginica \\\\\n",
       "\t Iris-virginica  & 5.1 & 1.8 & Iris-virginica \\\\\n",
       "\\end{tabular}\n"
      ],
      "text/markdown": [
       "\n",
       "A tibble: 30 × 4\n",
       "\n",
       "| .pred_class &lt;fct&gt; | PetalLengthCm &lt;dbl&gt; | PetalWidthCm &lt;dbl&gt; | Species &lt;fct&gt; |\n",
       "|---|---|---|---|\n",
       "| Iris-setosa     | 1.4 | 0.2 | Iris-setosa     |\n",
       "| Iris-setosa     | 1.4 | 0.2 | Iris-setosa     |\n",
       "| Iris-setosa     | 1.5 | 0.1 | Iris-setosa     |\n",
       "| Iris-setosa     | 1.6 | 0.2 | Iris-setosa     |\n",
       "| Iris-setosa     | 1.4 | 0.1 | Iris-setosa     |\n",
       "| Iris-setosa     | 1.5 | 0.4 | Iris-setosa     |\n",
       "| Iris-setosa     | 1.7 | 0.2 | Iris-setosa     |\n",
       "| Iris-setosa     | 1.9 | 0.2 | Iris-setosa     |\n",
       "| Iris-setosa     | 1.5 | 0.4 | Iris-setosa     |\n",
       "| Iris-setosa     | 1.3 | 0.2 | Iris-setosa     |\n",
       "| Iris-versicolor | 4.5 | 1.5 | Iris-versicolor |\n",
       "| Iris-versicolor | 4.6 | 1.3 | Iris-versicolor |\n",
       "| Iris-versicolor | 4.2 | 1.5 | Iris-versicolor |\n",
       "| Iris-versicolor | 4.5 | 1.5 | Iris-versicolor |\n",
       "| Iris-versicolor | 4.3 | 1.3 | Iris-versicolor |\n",
       "| Iris-versicolor | 4.8 | 1.4 | Iris-versicolor |\n",
       "| Iris-versicolor | 4.6 | 1.4 | Iris-versicolor |\n",
       "| Iris-versicolor | 4.0 | 1.2 | Iris-versicolor |\n",
       "| Iris-versicolor | 4.3 | 1.3 | Iris-versicolor |\n",
       "| Iris-versicolor | 3.0 | 1.1 | Iris-versicolor |\n",
       "| Iris-virginica  | 6.0 | 2.5 | Iris-virginica  |\n",
       "| Iris-virginica  | 6.7 | 2.2 | Iris-virginica  |\n",
       "| Iris-versicolor | 5.0 | 1.5 | Iris-virginica  |\n",
       "| Iris-virginica  | 4.9 | 2.0 | Iris-virginica  |\n",
       "| Iris-virginica  | 5.7 | 2.1 | Iris-virginica  |\n",
       "| Iris-virginica  | 4.9 | 1.8 | Iris-virginica  |\n",
       "| Iris-virginica  | 5.6 | 2.4 | Iris-virginica  |\n",
       "| Iris-virginica  | 5.9 | 2.3 | Iris-virginica  |\n",
       "| Iris-virginica  | 5.2 | 2.3 | Iris-virginica  |\n",
       "| Iris-virginica  | 5.1 | 1.8 | Iris-virginica  |\n",
       "\n"
      ],
      "text/plain": [
       "   .pred_class     PetalLengthCm PetalWidthCm Species        \n",
       "1  Iris-setosa     1.4           0.2          Iris-setosa    \n",
       "2  Iris-setosa     1.4           0.2          Iris-setosa    \n",
       "3  Iris-setosa     1.5           0.1          Iris-setosa    \n",
       "4  Iris-setosa     1.6           0.2          Iris-setosa    \n",
       "5  Iris-setosa     1.4           0.1          Iris-setosa    \n",
       "6  Iris-setosa     1.5           0.4          Iris-setosa    \n",
       "7  Iris-setosa     1.7           0.2          Iris-setosa    \n",
       "8  Iris-setosa     1.9           0.2          Iris-setosa    \n",
       "9  Iris-setosa     1.5           0.4          Iris-setosa    \n",
       "10 Iris-setosa     1.3           0.2          Iris-setosa    \n",
       "11 Iris-versicolor 4.5           1.5          Iris-versicolor\n",
       "12 Iris-versicolor 4.6           1.3          Iris-versicolor\n",
       "13 Iris-versicolor 4.2           1.5          Iris-versicolor\n",
       "14 Iris-versicolor 4.5           1.5          Iris-versicolor\n",
       "15 Iris-versicolor 4.3           1.3          Iris-versicolor\n",
       "16 Iris-versicolor 4.8           1.4          Iris-versicolor\n",
       "17 Iris-versicolor 4.6           1.4          Iris-versicolor\n",
       "18 Iris-versicolor 4.0           1.2          Iris-versicolor\n",
       "19 Iris-versicolor 4.3           1.3          Iris-versicolor\n",
       "20 Iris-versicolor 3.0           1.1          Iris-versicolor\n",
       "21 Iris-virginica  6.0           2.5          Iris-virginica \n",
       "22 Iris-virginica  6.7           2.2          Iris-virginica \n",
       "23 Iris-versicolor 5.0           1.5          Iris-virginica \n",
       "24 Iris-virginica  4.9           2.0          Iris-virginica \n",
       "25 Iris-virginica  5.7           2.1          Iris-virginica \n",
       "26 Iris-virginica  4.9           1.8          Iris-virginica \n",
       "27 Iris-virginica  5.6           2.4          Iris-virginica \n",
       "28 Iris-virginica  5.9           2.3          Iris-virginica \n",
       "29 Iris-virginica  5.2           2.3          Iris-virginica \n",
       "30 Iris-virginica  5.1           1.8          Iris-virginica "
      ]
     },
     "metadata": {},
     "output_type": "display_data"
    },
    {
     "data": {
      "text/html": [
       "<table class=\"dataframe\">\n",
       "<caption>A tibble: 1 × 2</caption>\n",
       "<thead>\n",
       "\t<tr><th scope=col>.metric</th><th scope=col>.estimate</th></tr>\n",
       "\t<tr><th scope=col>&lt;chr&gt;</th><th scope=col>&lt;dbl&gt;</th></tr>\n",
       "</thead>\n",
       "<tbody>\n",
       "\t<tr><td>accuracy</td><td>0.9666667</td></tr>\n",
       "</tbody>\n",
       "</table>\n"
      ],
      "text/latex": [
       "A tibble: 1 × 2\n",
       "\\begin{tabular}{ll}\n",
       " .metric & .estimate\\\\\n",
       " <chr> & <dbl>\\\\\n",
       "\\hline\n",
       "\t accuracy & 0.9666667\\\\\n",
       "\\end{tabular}\n"
      ],
      "text/markdown": [
       "\n",
       "A tibble: 1 × 2\n",
       "\n",
       "| .metric &lt;chr&gt; | .estimate &lt;dbl&gt; |\n",
       "|---|---|\n",
       "| accuracy | 0.9666667 |\n",
       "\n"
      ],
      "text/plain": [
       "  .metric  .estimate\n",
       "1 accuracy 0.9666667"
      ]
     },
     "metadata": {},
     "output_type": "display_data"
    },
    {
     "data": {
      "text/plain": [
       "                 Truth\n",
       "Prediction        Iris-setosa Iris-versicolor Iris-virginica\n",
       "  Iris-setosa              10               0              0\n",
       "  Iris-versicolor           0              10              1\n",
       "  Iris-virginica            0               0              9"
      ]
     },
     "metadata": {},
     "output_type": "display_data"
    }
   ],
   "source": [
    "\n",
    "knn_best_spec_petal<-nearest_neighbor(weight_func = \"rectangular\", neighbors = 15)|>\n",
    "set_engine(\"kknn\")|>\n",
    "set_mode(\"classification\")\n",
    "\n",
    "iris_fit_petal<-workflow()|>\n",
    "add_recipe(iris_recipe_petal)|>\n",
    "add_model(knn_best_spec_petal)|>\n",
    "fit(data=iris_train_petal)\n",
    "\n",
    "iris_predictions_petal<- predict(iris_fit_petal,iris_test_petal)|>\n",
    "bind_cols(iris_test_petal)\n",
    "iris_predictions_petal\n",
    "\n",
    "iris_accuracy_petal<-iris_predictions_petal|>\n",
    "metrics(truth= Species,estimate=.pred_class)|>\n",
    "select(.metric,.estimate)|>\n",
    "head(1)\n",
    "iris_accuracy_petal\n",
    "\n",
    "iris_cm_petal<-iris_predictions_petal|>\n",
    "conf_mat(truth = Species,estimate=.pred_class)\n",
    "iris_cm_petal"
   ]
  },
  {
   "cell_type": "markdown",
   "id": "7a5e9342-3014-476a-91c3-3bffcda0dea0",
   "metadata": {},
   "source": [
    "By putting together the three accuracies, we can find out that the petal part and overall data has a much higher accuracy than the sepal variable."
   ]
  },
  {
   "cell_type": "code",
   "execution_count": 26,
   "id": "38e3f4a6-20f6-4475-b755-f6e9ba9fa80b",
   "metadata": {},
   "outputs": [
    {
     "data": {
      "text/html": [
       "<table class=\"dataframe\">\n",
       "<caption>A tibble: 1 × 2</caption>\n",
       "<thead>\n",
       "\t<tr><th scope=col>.metric</th><th scope=col>.estimate</th></tr>\n",
       "\t<tr><th scope=col>&lt;chr&gt;</th><th scope=col>&lt;dbl&gt;</th></tr>\n",
       "</thead>\n",
       "<tbody>\n",
       "\t<tr><td>accuracy</td><td>0.9666667</td></tr>\n",
       "</tbody>\n",
       "</table>\n"
      ],
      "text/latex": [
       "A tibble: 1 × 2\n",
       "\\begin{tabular}{ll}\n",
       " .metric & .estimate\\\\\n",
       " <chr> & <dbl>\\\\\n",
       "\\hline\n",
       "\t accuracy & 0.9666667\\\\\n",
       "\\end{tabular}\n"
      ],
      "text/markdown": [
       "\n",
       "A tibble: 1 × 2\n",
       "\n",
       "| .metric &lt;chr&gt; | .estimate &lt;dbl&gt; |\n",
       "|---|---|\n",
       "| accuracy | 0.9666667 |\n",
       "\n"
      ],
      "text/plain": [
       "  .metric  .estimate\n",
       "1 accuracy 0.9666667"
      ]
     },
     "metadata": {},
     "output_type": "display_data"
    },
    {
     "data": {
      "text/html": [
       "<table class=\"dataframe\">\n",
       "<caption>A tibble: 1 × 2</caption>\n",
       "<thead>\n",
       "\t<tr><th scope=col>.metric</th><th scope=col>.estimate</th></tr>\n",
       "\t<tr><th scope=col>&lt;chr&gt;</th><th scope=col>&lt;dbl&gt;</th></tr>\n",
       "</thead>\n",
       "<tbody>\n",
       "\t<tr><td>accuracy</td><td>0.7</td></tr>\n",
       "</tbody>\n",
       "</table>\n"
      ],
      "text/latex": [
       "A tibble: 1 × 2\n",
       "\\begin{tabular}{ll}\n",
       " .metric & .estimate\\\\\n",
       " <chr> & <dbl>\\\\\n",
       "\\hline\n",
       "\t accuracy & 0.7\\\\\n",
       "\\end{tabular}\n"
      ],
      "text/markdown": [
       "\n",
       "A tibble: 1 × 2\n",
       "\n",
       "| .metric &lt;chr&gt; | .estimate &lt;dbl&gt; |\n",
       "|---|---|\n",
       "| accuracy | 0.7 |\n",
       "\n"
      ],
      "text/plain": [
       "  .metric  .estimate\n",
       "1 accuracy 0.7      "
      ]
     },
     "metadata": {},
     "output_type": "display_data"
    },
    {
     "data": {
      "text/html": [
       "<table class=\"dataframe\">\n",
       "<caption>A tibble: 1 × 2</caption>\n",
       "<thead>\n",
       "\t<tr><th scope=col>.metric</th><th scope=col>.estimate</th></tr>\n",
       "\t<tr><th scope=col>&lt;chr&gt;</th><th scope=col>&lt;dbl&gt;</th></tr>\n",
       "</thead>\n",
       "<tbody>\n",
       "\t<tr><td>accuracy</td><td>0.9666667</td></tr>\n",
       "</tbody>\n",
       "</table>\n"
      ],
      "text/latex": [
       "A tibble: 1 × 2\n",
       "\\begin{tabular}{ll}\n",
       " .metric & .estimate\\\\\n",
       " <chr> & <dbl>\\\\\n",
       "\\hline\n",
       "\t accuracy & 0.9666667\\\\\n",
       "\\end{tabular}\n"
      ],
      "text/markdown": [
       "\n",
       "A tibble: 1 × 2\n",
       "\n",
       "| .metric &lt;chr&gt; | .estimate &lt;dbl&gt; |\n",
       "|---|---|\n",
       "| accuracy | 0.9666667 |\n",
       "\n"
      ],
      "text/plain": [
       "  .metric  .estimate\n",
       "1 accuracy 0.9666667"
      ]
     },
     "metadata": {},
     "output_type": "display_data"
    }
   ],
   "source": [
    "iris_accuracy\n",
    "iris_accuracy_sepal\n",
    "iris_accuracy_petal"
   ]
  },
  {
   "cell_type": "markdown",
   "id": "eb9b3388-bcc5-4144-b8b5-b2d416cd7e2a",
   "metadata": {},
   "source": [
    "# Expected outcomes and significance:"
   ]
  },
  {
   "cell_type": "markdown",
   "id": "45383519-3743-42d4-a62d-3f6f06a531cd",
   "metadata": {},
   "source": [
    "In this project we expect to be able to identify the species of iris by the shape of its sepals and petals (length and width). Based on this data, more species of iris can be identified, which may facilitate the selecting and breeding of better varieties."
   ]
  }
 ],
 "metadata": {
  "kernelspec": {
   "display_name": "R",
   "language": "R",
   "name": "ir"
  },
  "language_info": {
   "codemirror_mode": "r",
   "file_extension": ".r",
   "mimetype": "text/x-r-source",
   "name": "R",
   "pygments_lexer": "r",
   "version": "4.1.3"
  }
 },
 "nbformat": 4,
 "nbformat_minor": 5
}
